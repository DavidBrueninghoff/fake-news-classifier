{
  "cells": [
    {
      "cell_type": "markdown",
      "metadata": {
        "id": "view-in-github",
        "colab_type": "text"
      },
      "source": [
        "<a href=\"https://colab.research.google.com/github/yannick5000/Fake-News-Detector-Covid-19-Vaccine/blob/main/Kopie_von_ML_App_FakeNews_Techlabs.ipynb\" target=\"_parent\"><img src=\"https://colab.research.google.com/assets/colab-badge.svg\" alt=\"Open In Colab\"/></a>"
      ]
    },
    {
      "cell_type": "markdown",
      "metadata": {
        "id": "c774U_Tt0DFg"
      },
      "source": [
        "**Health-related fakenews detector – Project Work - Machine Learning Group**\n",
        "\n"
      ]
    },
    {
      "cell_type": "markdown",
      "source": [
        "Getting started"
      ],
      "metadata": {
        "id": "ITZhiAiC3oI-"
      }
    },
    {
      "cell_type": "code",
      "execution_count": 1,
      "metadata": {
        "id": "Tb9Ow9ajxfNl",
        "colab": {
          "base_uri": "https://localhost:8080/"
        },
        "outputId": "63177cb9-8b62-4c0f-ced9-03aea1e2e62c"
      },
      "outputs": [
        {
          "output_type": "stream",
          "name": "stdout",
          "text": [
            "Mounted at /content/drive\n"
          ]
        }
      ],
      "source": [
        "from google.colab import drive\n",
        "drive.mount('/content/drive', force_remount=True)"
      ]
    },
    {
      "cell_type": "code",
      "execution_count": null,
      "metadata": {
        "id": "_SDsILYozBOr"
      },
      "outputs": [],
      "source": [
        "%cd drive/MyDrive/ColabNotebooks/data/"
      ]
    },
    {
      "cell_type": "code",
      "execution_count": 4,
      "metadata": {
        "id": "opbuqa2KsYhz"
      },
      "outputs": [],
      "source": [
        "#Loading in data as dataframe\n",
        "import pandas as pd\n",
        "import string\n",
        "import numpy as np\n",
        "\n",
        "df = pd.read_csv(\"statements.csv\",index_col=\"Index\")"
      ]
    },
    {
      "cell_type": "code",
      "source": [
        "#Removing punctuation from data frame\n",
        "list_punctuation = ['!', '\"', '#', '$', '%', '&', \"'\", '(', ')', '*', '+', ',', '-', '–', '.', '/', ':', ';', '<', '=', '>', '?', '@', '[', '\\\\', ']', '^', '_', '`', '{', '|', '}', '~', '®', '„', '“', '≥', '≤', '€']\n",
        "def remove_punctuation_df(input):\n",
        "  input = input.replace(\"[^\\w\\s]\",\"\")\n",
        "  input = [\"\".join(letter for letter in word if letter not in string.punctuation)for word in input]\n",
        "  input = [word.translate(string.punctuation) for word in input]\n",
        "  input = [\"\".join(letter for letter in word if letter not in list_punctuation)for word in input]\n",
        "  return input"
      ],
      "metadata": {
        "id": "ADqK2KsU1HlO"
      },
      "execution_count": 5,
      "outputs": []
    },
    {
      "cell_type": "code",
      "source": [
        "df[\"Statement\"] = df[[\"Statement\"]].apply(remove_punctuation_df)"
      ],
      "metadata": {
        "id": "QGQ2ajjo0vfK"
      },
      "execution_count": 6,
      "outputs": []
    },
    {
      "cell_type": "code",
      "source": [
        "#Removing punctuation from user's sentence\n",
        "other_punctuation = '–®„“≥≤€'\n",
        "our_punctuation = string.punctuation + other_punctuation\n",
        "def remove_punctuation_user(input):\n",
        "  for character in our_punctuation:\n",
        "    input = input.replace(character, '')\n",
        "  return input"
      ],
      "metadata": {
        "id": "cVrvotXE0_vP"
      },
      "execution_count": 7,
      "outputs": []
    },
    {
      "cell_type": "code",
      "source": [
        "example = \"Der COVID-19-Impfstoff Spikevax® von Moderna ist jetzt in Europa für die Anwendung bei Kindern ab 6 Jahren zugelassen worden.\"\n",
        "example = remove_punctuation_user(example)\n",
        "print(example)"
      ],
      "metadata": {
        "id": "WnqF57eTEjY0",
        "colab": {
          "base_uri": "https://localhost:8080/"
        },
        "outputId": "90a3babb-ed5b-4cb9-c74c-539d7e09254a"
      },
      "execution_count": 8,
      "outputs": [
        {
          "output_type": "stream",
          "name": "stdout",
          "text": [
            "Der COVID19Impfstoff Spikevax von Moderna ist jetzt in Europa für die Anwendung bei Kindern ab 6 Jahren zugelassen worden\n"
          ]
        }
      ]
    },
    {
      "cell_type": "code",
      "execution_count": 9,
      "metadata": {
        "id": "MGLSn6TwXoN1"
      },
      "outputs": [],
      "source": [
        "#Setting target variable\n",
        "df_drop = pd.get_dummies(df.iloc[:,0])\n",
        "frames = [df_drop,df[\"True/False\"]]\n",
        "df_final = pd.concat(frames, axis=1)       \n",
        "df_final \n",
        "df_final.tail()  \n",
        "df_target = df[\"True/False\"].eq(1).groupby(df[\"Statement\"]).mean().reset_index()"
      ]
    },
    {
      "cell_type": "code",
      "source": [
        "df_target"
      ],
      "metadata": {
        "id": "LKNWHMU72DuT",
        "colab": {
          "base_uri": "https://localhost:8080/",
          "height": 419
        },
        "outputId": "8a3eac1f-c4b0-4dc4-9928-718cf600c1ea"
      },
      "execution_count": 10,
      "outputs": [
        {
          "output_type": "execute_result",
          "data": {
            "text/plain": [
              "                                             Statement  True/False\n",
              "0     An COVID würden fast nur diejenigen Menschen ...         0.0\n",
              "1             Azithromycin kann das CovidVirus abtöten         0.0\n",
              "2     Bleichmittel zu trinken um das Virus im Körpe...         0.0\n",
              "3               Chloroquin kann das CovidVirus abtöten         0.0\n",
              "4     Das Virus wurde künstlich hergestellt und die...         0.0\n",
              "..                                                 ...         ...\n",
              "986       mRNAImpfstoffe können unser Erbgut verändern         0.0\n",
              "987  mRNAImpfstoffe verändern die DNA im Körper der...         0.0\n",
              "988  okalreaktionen Schmerzen an der Einstichstelle...         1.0\n",
              "989  Ähnlich wie bei Erwachsenen ist der Schutz vor...         1.0\n",
              "990  Österreich war das erste Land in der Europäisc...         1.0\n",
              "\n",
              "[991 rows x 2 columns]"
            ],
            "text/html": [
              "\n",
              "  <div id=\"df-f8eaa525-4b00-4800-ae07-9eda1ac113ba\">\n",
              "    <div class=\"colab-df-container\">\n",
              "      <div>\n",
              "<style scoped>\n",
              "    .dataframe tbody tr th:only-of-type {\n",
              "        vertical-align: middle;\n",
              "    }\n",
              "\n",
              "    .dataframe tbody tr th {\n",
              "        vertical-align: top;\n",
              "    }\n",
              "\n",
              "    .dataframe thead th {\n",
              "        text-align: right;\n",
              "    }\n",
              "</style>\n",
              "<table border=\"1\" class=\"dataframe\">\n",
              "  <thead>\n",
              "    <tr style=\"text-align: right;\">\n",
              "      <th></th>\n",
              "      <th>Statement</th>\n",
              "      <th>True/False</th>\n",
              "    </tr>\n",
              "  </thead>\n",
              "  <tbody>\n",
              "    <tr>\n",
              "      <th>0</th>\n",
              "      <td>An COVID würden fast nur diejenigen Menschen ...</td>\n",
              "      <td>0.0</td>\n",
              "    </tr>\n",
              "    <tr>\n",
              "      <th>1</th>\n",
              "      <td>Azithromycin kann das CovidVirus abtöten</td>\n",
              "      <td>0.0</td>\n",
              "    </tr>\n",
              "    <tr>\n",
              "      <th>2</th>\n",
              "      <td>Bleichmittel zu trinken um das Virus im Körpe...</td>\n",
              "      <td>0.0</td>\n",
              "    </tr>\n",
              "    <tr>\n",
              "      <th>3</th>\n",
              "      <td>Chloroquin kann das CovidVirus abtöten</td>\n",
              "      <td>0.0</td>\n",
              "    </tr>\n",
              "    <tr>\n",
              "      <th>4</th>\n",
              "      <td>Das Virus wurde künstlich hergestellt und die...</td>\n",
              "      <td>0.0</td>\n",
              "    </tr>\n",
              "    <tr>\n",
              "      <th>...</th>\n",
              "      <td>...</td>\n",
              "      <td>...</td>\n",
              "    </tr>\n",
              "    <tr>\n",
              "      <th>986</th>\n",
              "      <td>mRNAImpfstoffe können unser Erbgut verändern</td>\n",
              "      <td>0.0</td>\n",
              "    </tr>\n",
              "    <tr>\n",
              "      <th>987</th>\n",
              "      <td>mRNAImpfstoffe verändern die DNA im Körper der...</td>\n",
              "      <td>0.0</td>\n",
              "    </tr>\n",
              "    <tr>\n",
              "      <th>988</th>\n",
              "      <td>okalreaktionen Schmerzen an der Einstichstelle...</td>\n",
              "      <td>1.0</td>\n",
              "    </tr>\n",
              "    <tr>\n",
              "      <th>989</th>\n",
              "      <td>Ähnlich wie bei Erwachsenen ist der Schutz vor...</td>\n",
              "      <td>1.0</td>\n",
              "    </tr>\n",
              "    <tr>\n",
              "      <th>990</th>\n",
              "      <td>Österreich war das erste Land in der Europäisc...</td>\n",
              "      <td>1.0</td>\n",
              "    </tr>\n",
              "  </tbody>\n",
              "</table>\n",
              "<p>991 rows × 2 columns</p>\n",
              "</div>\n",
              "      <button class=\"colab-df-convert\" onclick=\"convertToInteractive('df-f8eaa525-4b00-4800-ae07-9eda1ac113ba')\"\n",
              "              title=\"Convert this dataframe to an interactive table.\"\n",
              "              style=\"display:none;\">\n",
              "        \n",
              "  <svg xmlns=\"http://www.w3.org/2000/svg\" height=\"24px\"viewBox=\"0 0 24 24\"\n",
              "       width=\"24px\">\n",
              "    <path d=\"M0 0h24v24H0V0z\" fill=\"none\"/>\n",
              "    <path d=\"M18.56 5.44l.94 2.06.94-2.06 2.06-.94-2.06-.94-.94-2.06-.94 2.06-2.06.94zm-11 1L8.5 8.5l.94-2.06 2.06-.94-2.06-.94L8.5 2.5l-.94 2.06-2.06.94zm10 10l.94 2.06.94-2.06 2.06-.94-2.06-.94-.94-2.06-.94 2.06-2.06.94z\"/><path d=\"M17.41 7.96l-1.37-1.37c-.4-.4-.92-.59-1.43-.59-.52 0-1.04.2-1.43.59L10.3 9.45l-7.72 7.72c-.78.78-.78 2.05 0 2.83L4 21.41c.39.39.9.59 1.41.59.51 0 1.02-.2 1.41-.59l7.78-7.78 2.81-2.81c.8-.78.8-2.07 0-2.86zM5.41 20L4 18.59l7.72-7.72 1.47 1.35L5.41 20z\"/>\n",
              "  </svg>\n",
              "      </button>\n",
              "      \n",
              "  <style>\n",
              "    .colab-df-container {\n",
              "      display:flex;\n",
              "      flex-wrap:wrap;\n",
              "      gap: 12px;\n",
              "    }\n",
              "\n",
              "    .colab-df-convert {\n",
              "      background-color: #E8F0FE;\n",
              "      border: none;\n",
              "      border-radius: 50%;\n",
              "      cursor: pointer;\n",
              "      display: none;\n",
              "      fill: #1967D2;\n",
              "      height: 32px;\n",
              "      padding: 0 0 0 0;\n",
              "      width: 32px;\n",
              "    }\n",
              "\n",
              "    .colab-df-convert:hover {\n",
              "      background-color: #E2EBFA;\n",
              "      box-shadow: 0px 1px 2px rgba(60, 64, 67, 0.3), 0px 1px 3px 1px rgba(60, 64, 67, 0.15);\n",
              "      fill: #174EA6;\n",
              "    }\n",
              "\n",
              "    [theme=dark] .colab-df-convert {\n",
              "      background-color: #3B4455;\n",
              "      fill: #D2E3FC;\n",
              "    }\n",
              "\n",
              "    [theme=dark] .colab-df-convert:hover {\n",
              "      background-color: #434B5C;\n",
              "      box-shadow: 0px 1px 3px 1px rgba(0, 0, 0, 0.15);\n",
              "      filter: drop-shadow(0px 1px 2px rgba(0, 0, 0, 0.3));\n",
              "      fill: #FFFFFF;\n",
              "    }\n",
              "  </style>\n",
              "\n",
              "      <script>\n",
              "        const buttonEl =\n",
              "          document.querySelector('#df-f8eaa525-4b00-4800-ae07-9eda1ac113ba button.colab-df-convert');\n",
              "        buttonEl.style.display =\n",
              "          google.colab.kernel.accessAllowed ? 'block' : 'none';\n",
              "\n",
              "        async function convertToInteractive(key) {\n",
              "          const element = document.querySelector('#df-f8eaa525-4b00-4800-ae07-9eda1ac113ba');\n",
              "          const dataTable =\n",
              "            await google.colab.kernel.invokeFunction('convertToInteractive',\n",
              "                                                     [key], {});\n",
              "          if (!dataTable) return;\n",
              "\n",
              "          const docLinkHtml = 'Like what you see? Visit the ' +\n",
              "            '<a target=\"_blank\" href=https://colab.research.google.com/notebooks/data_table.ipynb>data table notebook</a>'\n",
              "            + ' to learn more about interactive tables.';\n",
              "          element.innerHTML = '';\n",
              "          dataTable['output_type'] = 'display_data';\n",
              "          await google.colab.output.renderOutput(dataTable, element);\n",
              "          const docLink = document.createElement('div');\n",
              "          docLink.innerHTML = docLinkHtml;\n",
              "          element.appendChild(docLink);\n",
              "        }\n",
              "      </script>\n",
              "    </div>\n",
              "  </div>\n",
              "  "
            ]
          },
          "metadata": {},
          "execution_count": 10
        }
      ]
    },
    {
      "cell_type": "markdown",
      "source": [
        "Preprocessing"
      ],
      "metadata": {
        "id": "dmTib3PA3dr7"
      }
    },
    {
      "cell_type": "code",
      "source": [
        "#Preprocessing for dataframe\n",
        "def preprocess_df(input):\n",
        "  input = input.apply(lambda x: x.lower())   #lower case\n",
        "  input = input.apply(lambda x: x.strip())   #remove whitespace left and right\n",
        "  return input"
      ],
      "metadata": {
        "id": "BXS0scbzIY4k"
      },
      "execution_count": 11,
      "outputs": []
    },
    {
      "cell_type": "code",
      "source": [
        "df[\"Statement\"] = df[[\"Statement\"]].apply(preprocess_df)"
      ],
      "metadata": {
        "id": "61E6m_6M2hb9"
      },
      "execution_count": 12,
      "outputs": []
    },
    {
      "cell_type": "code",
      "source": [
        "#Preprocessing for user's sentence\n",
        "def preprocess_user(input):\n",
        "  input = input.lower()   #lower case\n",
        "  inout = input.strip()   #remove whitespace left and right\n",
        "  return input"
      ],
      "metadata": {
        "id": "I1tkS0_w24jg"
      },
      "execution_count": 13,
      "outputs": []
    },
    {
      "cell_type": "code",
      "source": [
        "example = preprocess_user(example)\n",
        "print(example)"
      ],
      "metadata": {
        "id": "KBH1fKcWIqIL",
        "colab": {
          "base_uri": "https://localhost:8080/"
        },
        "outputId": "20b48133-2c68-4105-a3ff-dfabe3b3a781"
      },
      "execution_count": 14,
      "outputs": [
        {
          "output_type": "stream",
          "name": "stdout",
          "text": [
            "der covid19impfstoff spikevax von moderna ist jetzt in europa für die anwendung bei kindern ab 6 jahren zugelassen worden\n"
          ]
        }
      ]
    },
    {
      "cell_type": "code",
      "execution_count": 15,
      "metadata": {
        "id": "ZIedhq4OBB_t",
        "colab": {
          "base_uri": "https://localhost:8080/"
        },
        "outputId": "ab1c02d3-8fa9-42a3-96a6-5a9859590eab"
      },
      "outputs": [
        {
          "output_type": "stream",
          "name": "stderr",
          "text": [
            "[nltk_data] Downloading package punkt to /root/nltk_data...\n",
            "[nltk_data]   Unzipping tokenizers/punkt.zip.\n",
            "[nltk_data] Downloading package wordnet to /root/nltk_data...\n"
          ]
        },
        {
          "output_type": "execute_result",
          "data": {
            "text/plain": [
              "True"
            ]
          },
          "metadata": {},
          "execution_count": 15
        }
      ],
      "source": [
        "#Tokenization: bringing sentences into world\n",
        "import nltk\n",
        "nltk.download(\"punkt\")\n",
        "nltk.download(\"wordnet\")"
      ]
    },
    {
      "cell_type": "code",
      "source": [
        "#Tokenization for dataframe\n",
        "def tokenize_df(input):\n",
        "  input = input.apply(lambda x: nltk.word_tokenize(x))\n",
        "  return input"
      ],
      "metadata": {
        "id": "G2JXhWol3xhc"
      },
      "execution_count": 16,
      "outputs": []
    },
    {
      "cell_type": "code",
      "source": [
        "df[\"Statement\"] = df[[\"Statement\"]].apply(tokenize_df)"
      ],
      "metadata": {
        "id": "kGcqT5bx3uVC"
      },
      "execution_count": 17,
      "outputs": []
    },
    {
      "cell_type": "code",
      "source": [
        "#Tokenization for user's sentence\n",
        "def tokenize_user(input):\n",
        "  input = nltk.word_tokenize(input)\n",
        "  return input"
      ],
      "metadata": {
        "id": "vEkIG3y130zf"
      },
      "execution_count": 18,
      "outputs": []
    },
    {
      "cell_type": "code",
      "source": [
        "example = tokenize_user(example)\n",
        "print(example)"
      ],
      "metadata": {
        "id": "agUe92i646kV",
        "colab": {
          "base_uri": "https://localhost:8080/"
        },
        "outputId": "47e68cb8-6952-4a4d-d67a-3a6225597194"
      },
      "execution_count": 19,
      "outputs": [
        {
          "output_type": "stream",
          "name": "stdout",
          "text": [
            "['der', 'covid19impfstoff', 'spikevax', 'von', 'moderna', 'ist', 'jetzt', 'in', 'europa', 'für', 'die', 'anwendung', 'bei', 'kindern', 'ab', '6', 'jahren', 'zugelassen', 'worden']\n"
          ]
        }
      ]
    },
    {
      "cell_type": "code",
      "execution_count": null,
      "metadata": {
        "id": "QW1gsQiXBDUj"
      },
      "outputs": [],
      "source": [
        "#Importing the stop words\n",
        "#German stop word library from nltk\n",
        "nltk.download(\"stopwords\")\n",
        "from nltk.corpus import stopwords\n",
        "\n",
        "stopWordsGerman = stopwords.words(\"german\")\n",
        "len(stopWordsGerman)   #232 words"
      ]
    },
    {
      "cell_type": "code",
      "execution_count": 21,
      "metadata": {
        "id": "K7dV0GtkBzTT"
      },
      "outputs": [],
      "source": [
        "#Removing stop words in dataframe\n",
        "def remove_stopwords_df(input):\n",
        "  input = input.apply(lambda element: [word for word in element if not word in stopWordsGerman])\n",
        "  input = input.apply(lambda x: ' '.join([word for word in x]))   #You can join the list of above words to create a sentence without stop words, as shown below:\n",
        "  return input"
      ]
    },
    {
      "cell_type": "code",
      "source": [
        "df[\"Statement\"] = df[[\"Statement\"]].apply(remove_stopwords_df)"
      ],
      "metadata": {
        "id": "xmJHku4T5L9R"
      },
      "execution_count": 22,
      "outputs": []
    },
    {
      "cell_type": "code",
      "source": [
        "#Removing stop words in user's sentence\n",
        "def remove_stopwords_user(input):\n",
        "  new_list = list()\n",
        "  for word in input:\n",
        "    if not word in stopWordsGerman:\n",
        "      new_list.append(word)\n",
        "  sentence_withoutstopwords = ' '.join(new_list)\n",
        "  return sentence_withoutstopwords"
      ],
      "metadata": {
        "id": "ZnwBsRod6OPh"
      },
      "execution_count": 23,
      "outputs": []
    },
    {
      "cell_type": "code",
      "source": [
        "example = remove_stopwords_user(example)\n",
        "print(example)"
      ],
      "metadata": {
        "id": "vPkAYtaH_wZa",
        "colab": {
          "base_uri": "https://localhost:8080/"
        },
        "outputId": "185c41fd-1775-407d-fdc3-caa8d599304c"
      },
      "execution_count": 24,
      "outputs": [
        {
          "output_type": "stream",
          "name": "stdout",
          "text": [
            "covid19impfstoff spikevax moderna europa anwendung kindern ab 6 jahren zugelassen worden\n"
          ]
        }
      ]
    },
    {
      "cell_type": "code",
      "source": [
        "#Saving data after preprocessing part 1 as \"cleanedstatements.csv\"\n",
        "from google.colab import files\n",
        "df.to_csv('cleanedstatements.csv')\n",
        "files.download('cleanedstatements.csv')"
      ],
      "metadata": {
        "id": "OUqC9rlYNvTV"
      },
      "execution_count": null,
      "outputs": []
    },
    {
      "cell_type": "markdown",
      "source": [
        "Lemmatization"
      ],
      "metadata": {
        "id": "VhUMifDkZ6t5"
      }
    },
    {
      "cell_type": "code",
      "execution_count": null,
      "metadata": {
        "id": "MNtctxaTsfaF"
      },
      "outputs": [],
      "source": [
        "#Lemmatization\n",
        "#Preparation\n",
        "!pip install -U spacy                       #to install spacy-lemmatizer\n",
        "!python -m spacy download de_core_news_sm   #to download the German language module\n",
        "\n",
        "import spacy\n",
        "nlp = spacy.load(\"de_core_news_sm\")\n",
        "\n",
        "nlp.pipe_names   #to define specific lemmas yourself\n",
        "\n",
        "ar = nlp.get_pipe('attribute_ruler')\n",
        "\n",
        "#Phrases related to covid\n",
        "ar.add([[{\"TEXT\":\"vakzinen\"}],[{\"TEXT\":\"vakzine\"}],[{\"TEXT\":\"vaccination\"}],[{\"TEXT\":\"covid19impfung\"}],[{\"TEXT\":\"covidimpfung\"}],[{\"TEXT\":\"covid19schutzimpfung\"}],[{\"TEXT\":\"covidschutzimpfung\"}],[{\"TEXT\":\"coronaschutzimpfung\"}]],{\"LEMMA\":\"impfung\"})\n",
        "ar.add([[{\"TEXT\":\"impfstoffe\"}],[{\"TEXT\":\"impfstoffen\"}]],{\"LEMMA\":\"impfstoff\"})\n",
        "ar.add([[{\"TEXT\":\"covid19\"}],[{\"TEXT\":\"sarscov2\"}]],{\"LEMMA\":\"corona\"})\n",
        "ar.add([[{\"TEXT\":\"coronaerkrankung\"}],[{\"TEXT\":\"coronainfektion\"}],[{\"TEXT\":\"covid19infektion\"}],[{\"TEXT\":\"sarscov2infektion\"}]],{\"LEMMA\":\"corona\"})\n",
        "ar.add([[{\"TEXT\":\"covid19virus\"}],[{\"TEXT\":\"sarscov2virus\"}], [{\"TEXT\":\"coronaviren\"}]], {\"LEMMA\":\"coronavirus\"})\n",
        "ar.add([[{\"TEXT\":\"covid19impfstoff\"}],[{\"TEXT\":\"covidimpfstoffe\"}],[{\"TEXT\":\"covidimpfstoffe\"}]],{\"LEMMA\":\"coronaimpfstoff\"})\n",
        "ar.add([[{\"TEXT\":\"covid19auffrischimpfung\"}],[{\"TEXT\":\"covidauffrischimpfung\"}],[{\"TEXT\":\"coronaauffrischimpfung\"}],[{\"TEXT\":\"auffrischungsimpfung\"}],[{\"TEXT\":\"covid19auffrischungsimpfung\"}],[{\"TEXT\":\"covidiauffrischungsimpfung\"}],[{\"TEXT\":\"coronaauffrischungsimpfung\"}]],{\"LEMMA\":\"auffrischimpfung\"})\n",
        "\n",
        "#Other phrases\n",
        "ar.add([[{\"TEXT\":\"altersgruppe\"}]],{\"LEMMA\":\"altersklasse\"})\n",
        "ar.add([[{\"TEXT\":\"myokarditis\"}],[{\"TEXT\":\"myokarditiden\"}]],{\"LEMMA\":\"herzmuskelentzündung\"})\n",
        "ar.add([[{\"TEXT\":\"todesfälle\"}],[{\"TEXT\":\"sterbefall\"}],[{\"TEXT\":\"sterbefälle\"}],[{\"TEXT\":\"sterberate\"}],[{\"TEXT\":\"todesrate\"}]],{\"LEMMA\":\"todesfall\"})\n",
        "ar.add([[{\"TEXT\":\"fehlgeburten\"}],[{\"TEXT\":\"spontanabort\"}],[{\"TEXT\":\"fehlgeburt\"}],[{\"TEXT\":\"stillgeburt\"}],[{\"TEXT\":\"totgeburt\"}]],{\"LEMMA\":\"fehlgeburt\"})\n"
      ]
    },
    {
      "cell_type": "code",
      "source": [
        "df = pd.read_csv(\"cleanedstatements.csv\", index_col='Index')"
      ],
      "metadata": {
        "id": "pkKqckwEJVBA"
      },
      "execution_count": 27,
      "outputs": []
    },
    {
      "cell_type": "code",
      "source": [
        "def lemmatize_df(input):\n",
        "  lemmtext = []\n",
        "  doc = nlp(input)\n",
        "  input = [x.lemma_ for x in doc]\n",
        "  lemmtext.append(input)\n",
        "  input = ' '.join([word for word in input])\n",
        "  input = input.lower()   #Through lemmatization, words with capital letters reappeared, so make everything lower case again\n",
        "  return input"
      ],
      "metadata": {
        "id": "fQob3_NIYDdP"
      },
      "execution_count": 28,
      "outputs": []
    },
    {
      "cell_type": "code",
      "source": [
        "df[\"Statement\"] = df[\"Statement\"].apply(lemmatize_df)"
      ],
      "metadata": {
        "id": "83wxcXzmJit7"
      },
      "execution_count": 29,
      "outputs": []
    },
    {
      "cell_type": "code",
      "source": [
        "def lemmatize_user(input):\n",
        "  lemmtext = []\n",
        "  doc = nlp(input)\n",
        "  input = [x.lemma_ for x in doc]\n",
        "  lemmtext.append(input)\n",
        "  input = ' '.join(input)\n",
        "  input = input.lower()   #Through lemmatization, words with capital letters reappeared, so make everything lower case again\n",
        "  return input"
      ],
      "metadata": {
        "id": "Le3lHjK3G4on"
      },
      "execution_count": 30,
      "outputs": []
    },
    {
      "cell_type": "code",
      "source": [
        "example = lemmatize_user(example)\n",
        "print(example)"
      ],
      "metadata": {
        "id": "HyVfB2geIyGY",
        "colab": {
          "base_uri": "https://localhost:8080/"
        },
        "outputId": "0b43ac15-46c6-47f6-e39d-79ce35ec98b7"
      },
      "execution_count": 31,
      "outputs": [
        {
          "output_type": "stream",
          "name": "stdout",
          "text": [
            "coronaimpfstoff spikevax moderna europa anwendung kind ab 6 jahr zulassen werden\n"
          ]
        }
      ]
    },
    {
      "cell_type": "code",
      "source": [
        "#Saving data after lemmatization part 1 as \"lemmatizedstatements.csv\"\n",
        "from google.colab import files\n",
        "df.to_csv('lemmatizedstatements.csv')\n",
        "files.download('lemmatizedstatements.csv')"
      ],
      "metadata": {
        "id": "TxpOekzcTuGU"
      },
      "execution_count": null,
      "outputs": []
    },
    {
      "cell_type": "markdown",
      "metadata": {
        "id": "cvqAiB0_7bWB"
      },
      "source": [
        "Machine Learning Model: Logistic Regression"
      ]
    },
    {
      "cell_type": "code",
      "source": [
        "#Preparing fake news detector: training model with data"
      ],
      "metadata": {
        "id": "Zq2q0fr_BEVl"
      },
      "execution_count": 33,
      "outputs": []
    },
    {
      "cell_type": "code",
      "execution_count": null,
      "metadata": {
        "id": "m25-rr-r7fV_"
      },
      "outputs": [],
      "source": [
        "#Following code is from: https://www.kaggle.com/code/shahkan/text-classification-using-logistic-regression/data\n",
        "import re\n",
        "import matplotlib.pyplot as plt\n",
        "from nltk.corpus import stopwords\n",
        "from nltk.stem import PorterStemmer\n",
        "from sklearn.feature_extraction.text import TfidfVectorizer\n",
        "from sklearn.pipeline import Pipeline\n",
        "from sklearn.metrics import classification_report, confusion_matrix\n",
        "from sklearn.model_selection import train_test_split\n",
        "from sklearn.feature_selection import SelectKBest, chi2\n",
        "from sqlite3 import Error\n",
        "from sklearn.ensemble import RandomForestClassifier\n",
        "import sqlite3\n",
        "import pickle\n",
        "import nltk\n",
        "nltk.download('stopwords')\n",
        "%matplotlib inline"
      ]
    },
    {
      "cell_type": "code",
      "source": [
        "df = pd.read_csv('lemmatizedstatements.csv')"
      ],
      "metadata": {
        "id": "eLgU6INwIKgG"
      },
      "execution_count": 35,
      "outputs": []
    },
    {
      "cell_type": "code",
      "source": [
        "#Stopwords are the same as above\n",
        "vectorizer = TfidfVectorizer(min_df= 3, stop_words=stopWordsGerman, sublinear_tf=True, norm='l2', ngram_range=(1, 2))\n",
        "final_features = vectorizer.fit_transform(df['Statement']).toarray()\n",
        "final_features.shape"
      ],
      "metadata": {
        "id": "bUy8C-JzIN7s",
        "colab": {
          "base_uri": "https://localhost:8080/"
        },
        "outputId": "95cd074e-c590-4a77-edf6-d6cc33ff0dde"
      },
      "execution_count": 36,
      "outputs": [
        {
          "output_type": "execute_result",
          "data": {
            "text/plain": [
              "(999, 899)"
            ]
          },
          "metadata": {},
          "execution_count": 36
        }
      ]
    },
    {
      "cell_type": "code",
      "source": [
        "#Alternative Logistic Regression model with code from: https://www.analyticsvidhya.com/blog/2021/04/beginners-guide-to-logistic-regression-using-python/ and': https://www.kaggle.com/code/shahkan/text-classification-using-logistic-regression/notebook\n",
        "\n",
        "from sklearn.linear_model import LogisticRegression\n",
        "X = df['Statement']   #input\n",
        "Y = df['True/False']  #output\n",
        "X_train, X_test, y_train, y_test = train_test_split(X, Y, test_size=0.3, random_state=42, stratify=Y)\n",
        "\n",
        "from sklearn.linear_model import LogisticRegression\n",
        "model = LogisticRegression()\n",
        "pipeline = Pipeline([('vect', vectorizer),\n",
        "                     ('chi',  SelectKBest(chi2, k=600)),\n",
        "                     ('clf', LogisticRegression(random_state=42))])\n",
        "model = pipeline.fit(X_train, y_train)\n",
        "predictions = model.predict(X_test)\n",
        "probability = model.predict_proba(X)\n",
        "print(probability)   #left column of matrix: probability of predicted output being 0, right column: probability of predicted output being 1; rows: per each of our statements\n",
        "\n",
        "from sklearn.metrics import classification_report\n",
        "print(classification_report(y_test, predictions))\n",
        "\n",
        "from sklearn.metrics import confusion_matrix\n",
        "print(confusion_matrix(y_test, \n",
        "predictions))"
      ],
      "metadata": {
        "id": "uaPVnxqtv3CU",
        "colab": {
          "base_uri": "https://localhost:8080/"
        },
        "outputId": "814fb0d0-bf53-4a3e-8dfc-1e9c9d0dabff"
      },
      "execution_count": 37,
      "outputs": [
        {
          "output_type": "stream",
          "name": "stdout",
          "text": [
            "[[0.64113865 0.35886135]\n",
            " [0.38188611 0.61811389]\n",
            " [0.84097471 0.15902529]\n",
            " ...\n",
            " [0.23272025 0.76727975]\n",
            " [0.72531773 0.27468227]\n",
            " [0.74294346 0.25705654]]\n",
            "              precision    recall  f1-score   support\n",
            "\n",
            "       False       0.81      0.81      0.81       149\n",
            "        True       0.81      0.81      0.81       151\n",
            "\n",
            "    accuracy                           0.81       300\n",
            "   macro avg       0.81      0.81      0.81       300\n",
            "weighted avg       0.81      0.81      0.81       300\n",
            "\n",
            "[[120  29]\n",
            " [ 28 123]]\n"
          ]
        }
      ]
    },
    {
      "cell_type": "markdown",
      "metadata": {
        "id": "rBzq3L-VBHvl"
      },
      "source": [
        "Creating Fake News Detector with Anvil"
      ]
    },
    {
      "cell_type": "code",
      "source": [
        "!pip install -Uqq fastai --upgrade\n",
        "!pip install -Uqq fastcore --upgrade\n",
        "!pip install -Uqq pandas==1.1.0\n",
        "!pip install -Uqq anvil-uplink"
      ],
      "metadata": {
        "id": "J_qSlX0mqtsd"
      },
      "execution_count": null,
      "outputs": []
    },
    {
      "cell_type": "code",
      "source": [
        "from fastai.text.all import load_learner\n",
        "import anvil.server"
      ],
      "metadata": {
        "id": "NBbvURLorJgV"
      },
      "execution_count": 39,
      "outputs": []
    },
    {
      "cell_type": "code",
      "source": [
        "anvil.server.connect(\"TKEAZQWDWYAZVEHF4EW3TN5F-XGIH7W2J3XZSQW46\")"
      ],
      "metadata": {
        "id": "g1dBikVQrRfE"
      },
      "execution_count": null,
      "outputs": []
    },
    {
      "cell_type": "code",
      "source": [
        "@anvil.server.callable\n",
        "def predict_app(input):\n",
        "  input = remove_punctuation_user(input)   #the different kinds of preprocessing steps also have to be applied to our user's input sentence - if not, the machine learning model will not understand the sentence and will not be able to categorize it into True or False\n",
        "  input = preprocess_user(input)\n",
        "  input = tokenize_user(input)\n",
        "  input = remove_stopwords_user(input)\n",
        "  input = lemmatize_user(input)\n",
        "  input = [input]\n",
        "  prediction = model.predict(input)\n",
        "  correct = \"The statement is correct\"\n",
        "  false = \"The statement is false\"\n",
        "  if prediction == 0:\n",
        "    preds = correct\n",
        "  else:\n",
        "    preds = false\n",
        "  return preds"
      ],
      "metadata": {
        "id": "apZieRCXrqbl"
      },
      "execution_count": 41,
      "outputs": []
    },
    {
      "cell_type": "code",
      "source": [
        "#For demo:\n",
        "#URL to our application: https://XGIH7W2J3XZSQW46.anvil.app/3KGXEUN7XDU6WSMTXUMIEWAZ\n",
        "  #Correct statement #1: \"mRNA-Impfstoffe schützen vor schweren Verläufen.\"\n",
        "  #Correct statement #2: \"Die COVID-19-Impfstoffe schützen gut vor COVID-19.\"\n",
        "  #Correct statement #3: \"Es sind keine Mikrochips in Impfstoffen enthalten.\"\n",
        "  #False statement #1: \"Von Coronaimpfstoffen geht eine hohe Todesgefahr aus.\"\n",
        "  #False statement #2: \"Chloroquin kann das Covid-Virus abtöten. Impfungen sind unnötig.\"\n",
        "  #False statement #3: \"Personen mit besonders schwerem Verlauf weisen viele Antikörper gegen SARS-CoV-2 auf.\""
      ],
      "metadata": {
        "id": "vkActF0LOLZ_"
      },
      "execution_count": 42,
      "outputs": []
    }
  ],
  "metadata": {
    "colab": {
      "collapsed_sections": [],
      "provenance": [],
      "include_colab_link": true
    },
    "kernelspec": {
      "display_name": "Python 3",
      "name": "python3"
    },
    "language_info": {
      "name": "python"
    }
  },
  "nbformat": 4,
  "nbformat_minor": 0
}
