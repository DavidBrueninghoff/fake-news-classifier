{
  "cells": [
    {
      "cell_type": "markdown",
      "metadata": {
        "colab_type": "text",
        "id": "view-in-github"
      },
      "source": [
        "<a href=\"https://colab.research.google.com/github/yannick5000/Fake-News-Detector-Covid-19-Vaccine/blob/main/Kopie_von_ML_DL_App_FakeNews_Techlabs.ipynb\" target=\"_parent\"><img src=\"https://colab.research.google.com/assets/colab-badge.svg\" alt=\"Open In Colab\"/></a>"
      ]
    },
    {
      "cell_type": "markdown",
      "metadata": {
        "id": "c774U_Tt0DFg"
      },
      "source": [
        "**Health-related fakenews detector – Project Work - Machine Learning & Deep Learning Model**\n",
        "\n"
      ]
    },
    {
      "cell_type": "markdown",
      "metadata": {
        "id": "ITZhiAiC3oI-"
      },
      "source": [
        "#Importing the libraries and data"
      ]
    },
    {
      "cell_type": "code",
      "execution_count": null,
      "metadata": {
        "colab": {
          "base_uri": "https://localhost:8080/"
        },
        "id": "Tb9Ow9ajxfNl",
        "outputId": "01f0e212-1e67-4c7b-a7d2-c650280416c4"
      },
      "outputs": [
        {
          "name": "stdout",
          "output_type": "stream",
          "text": [
            "Mounted at /content/drive\n"
          ]
        }
      ],
      "source": [
        "from google.colab import drive\n",
        "drive.mount('/content/drive', force_remount=True)"
      ]
    },
    {
      "cell_type": "code",
      "execution_count": null,
      "metadata": {
        "id": "OIdQW3kqsvd9"
      },
      "outputs": [],
      "source": []
    },
    {
      "cell_type": "code",
      "execution_count": null,
      "metadata": {
        "colab": {
          "base_uri": "https://localhost:8080/"
        },
        "id": "_SDsILYozBOr",
        "outputId": "7440ee88-c2ac-4515-896f-eb8f052b9795"
      },
      "outputs": [
        {
          "name": "stdout",
          "output_type": "stream",
          "text": [
            "[Errno 2] No such file or directory: 'drive/MyDrive/ColabNotebooks/data/'\n",
            "/content\n"
          ]
        }
      ],
      "source": [
        "%cd drive/MyDrive/ColabNotebooks/data/"
      ]
    },
    {
      "cell_type": "code",
      "execution_count": null,
      "metadata": {
        "id": "opbuqa2KsYhz"
      },
      "outputs": [],
      "source": [
        "#Loading in data as dataframe\n",
        "import pandas as pd\n",
        "import string\n",
        "import numpy as np\n",
        "df = pd.read_csv(\"statements.csv\",index_col=\"Index\")"
      ]
    },
    {
      "cell_type": "code",
      "execution_count": null,
      "metadata": {
        "id": "ADqK2KsU1HlO"
      },
      "outputs": [],
      "source": [
        "#Removing punctuation from data frame\n",
        "list_punctuation = ['!', '\"', '#', '$', '%', '&', \"'\", '(', ')', '*', '+', ',', '-', '–', '.', '/', ':', ';', '<', '=', '>', '?', '@', '[', '\\\\', ']', '^', '_', '`', '{', '|', '}', '~', '®', '„', '“', '≥', '≤', '€','”']\n",
        "def remove_punctuation_df(input):\n",
        "  input = input.replace(\"[^\\w\\s]\",\"\")\n",
        "  input = [\"\".join(letter for letter in word if letter not in string.punctuation)for word in input]\n",
        "  input = [word.translate(string.punctuation) for word in input]\n",
        "  input = [\"\".join(letter for letter in word if letter not in list_punctuation)for word in input]\n",
        "  return input"
      ]
    },
    {
      "cell_type": "code",
      "execution_count": null,
      "metadata": {
        "id": "QGQ2ajjo0vfK"
      },
      "outputs": [],
      "source": [
        "df[\"Statement\"] = df[[\"Statement\"]].apply(remove_punctuation_df)"
      ]
    },
    {
      "cell_type": "code",
      "execution_count": null,
      "metadata": {
        "id": "cVrvotXE0_vP"
      },
      "outputs": [],
      "source": [
        "#Removing punctuation from user's sentence\n",
        "other_punctuation = '–®„“≥≤€'\n",
        "our_punctuation = string.punctuation + other_punctuation\n",
        "def remove_punctuation_user(input):\n",
        "  for character in our_punctuation:\n",
        "    input = input.replace(character, '')\n",
        "  return input"
      ]
    },
    {
      "cell_type": "code",
      "execution_count": null,
      "metadata": {
        "colab": {
          "base_uri": "https://localhost:8080/"
        },
        "id": "WnqF57eTEjY0",
        "outputId": "74ba9c0b-fb8d-4f8e-9090-a7f0a2ff7597"
      },
      "outputs": [
        {
          "name": "stdout",
          "output_type": "stream",
          "text": [
            "Der COVID19Impfstoff Spikevax von Moderna ist jetzt in Europa für die Anwendung bei Kindern ab 6 Jahren zugelassen worden\n"
          ]
        }
      ],
      "source": [
        "example = \"Der COVID-19-Impfstoff Spikevax® von Moderna ist jetzt in Europa für die Anwendung bei Kindern ab 6 Jahren zugelassen worden.\"\n",
        "example = remove_punctuation_user(example)\n",
        "print(example)"
      ]
    },
    {
      "cell_type": "code",
      "execution_count": null,
      "metadata": {
        "id": "MGLSn6TwXoN1"
      },
      "outputs": [],
      "source": [
        "#Setting target variable\n",
        "df_drop = pd.get_dummies(df.iloc[:,0])\n",
        "frames = [df_drop,df[\"True/False\"]]\n",
        "df_final = pd.concat(frames, axis=1)       \n",
        "df_final \n",
        "df_final.tail()  \n",
        "df_target = df[\"True/False\"].eq(1).groupby(df[\"Statement\"]).mean().reset_index()"
      ]
    },
    {
      "cell_type": "code",
      "execution_count": null,
      "metadata": {
        "colab": {
          "base_uri": "https://localhost:8080/",
          "height": 424
        },
        "id": "LKNWHMU72DuT",
        "outputId": "4b5dde04-d050-4b27-a385-ecaeeaee2a00"
      },
      "outputs": [
        {
          "data": {
            "text/html": [
              "\n",
              "  <div id=\"df-6a57240c-ce78-495c-be51-eb6e35b28a88\">\n",
              "    <div class=\"colab-df-container\">\n",
              "      <div>\n",
              "<style scoped>\n",
              "    .dataframe tbody tr th:only-of-type {\n",
              "        vertical-align: middle;\n",
              "    }\n",
              "\n",
              "    .dataframe tbody tr th {\n",
              "        vertical-align: top;\n",
              "    }\n",
              "\n",
              "    .dataframe thead th {\n",
              "        text-align: right;\n",
              "    }\n",
              "</style>\n",
              "<table border=\"1\" class=\"dataframe\">\n",
              "  <thead>\n",
              "    <tr style=\"text-align: right;\">\n",
              "      <th></th>\n",
              "      <th>Statement</th>\n",
              "      <th>True/False</th>\n",
              "    </tr>\n",
              "  </thead>\n",
              "  <tbody>\n",
              "    <tr>\n",
              "      <th>0</th>\n",
              "      <td>An COVID würden fast nur diejenigen Menschen ...</td>\n",
              "      <td>False</td>\n",
              "    </tr>\n",
              "    <tr>\n",
              "      <th>1</th>\n",
              "      <td>Azithromycin kann das CovidVirus abtöten</td>\n",
              "      <td>False</td>\n",
              "    </tr>\n",
              "    <tr>\n",
              "      <th>2</th>\n",
              "      <td>Bleichmittel zu trinken um das Virus im Körpe...</td>\n",
              "      <td>False</td>\n",
              "    </tr>\n",
              "    <tr>\n",
              "      <th>3</th>\n",
              "      <td>Chloroquin kann das CovidVirus abtöten</td>\n",
              "      <td>False</td>\n",
              "    </tr>\n",
              "    <tr>\n",
              "      <th>4</th>\n",
              "      <td>Die COVID19 Impfung schützt nicht nur die gei...</td>\n",
              "      <td>True</td>\n",
              "    </tr>\n",
              "    <tr>\n",
              "      <th>...</th>\n",
              "      <td>...</td>\n",
              "      <td>...</td>\n",
              "    </tr>\n",
              "    <tr>\n",
              "      <th>952</th>\n",
              "      <td>mRNAImpfstoffe können unser Erbgut verändern</td>\n",
              "      <td>False</td>\n",
              "    </tr>\n",
              "    <tr>\n",
              "      <th>953</th>\n",
              "      <td>mRNAImpfstoffe verändern die DNA im Körper der...</td>\n",
              "      <td>False</td>\n",
              "    </tr>\n",
              "    <tr>\n",
              "      <th>954</th>\n",
              "      <td>okalreaktionen Schmerzen an der Einstichstelle...</td>\n",
              "      <td>True</td>\n",
              "    </tr>\n",
              "    <tr>\n",
              "      <th>955</th>\n",
              "      <td>Ähnlich wie bei Erwachsenen ist der Schutz vor...</td>\n",
              "      <td>True</td>\n",
              "    </tr>\n",
              "    <tr>\n",
              "      <th>956</th>\n",
              "      <td>Österreich war das erste Land in der Europäisc...</td>\n",
              "      <td>True</td>\n",
              "    </tr>\n",
              "  </tbody>\n",
              "</table>\n",
              "<p>957 rows × 2 columns</p>\n",
              "</div>\n",
              "      <button class=\"colab-df-convert\" onclick=\"convertToInteractive('df-6a57240c-ce78-495c-be51-eb6e35b28a88')\"\n",
              "              title=\"Convert this dataframe to an interactive table.\"\n",
              "              style=\"display:none;\">\n",
              "        \n",
              "  <svg xmlns=\"http://www.w3.org/2000/svg\" height=\"24px\"viewBox=\"0 0 24 24\"\n",
              "       width=\"24px\">\n",
              "    <path d=\"M0 0h24v24H0V0z\" fill=\"none\"/>\n",
              "    <path d=\"M18.56 5.44l.94 2.06.94-2.06 2.06-.94-2.06-.94-.94-2.06-.94 2.06-2.06.94zm-11 1L8.5 8.5l.94-2.06 2.06-.94-2.06-.94L8.5 2.5l-.94 2.06-2.06.94zm10 10l.94 2.06.94-2.06 2.06-.94-2.06-.94-.94-2.06-.94 2.06-2.06.94z\"/><path d=\"M17.41 7.96l-1.37-1.37c-.4-.4-.92-.59-1.43-.59-.52 0-1.04.2-1.43.59L10.3 9.45l-7.72 7.72c-.78.78-.78 2.05 0 2.83L4 21.41c.39.39.9.59 1.41.59.51 0 1.02-.2 1.41-.59l7.78-7.78 2.81-2.81c.8-.78.8-2.07 0-2.86zM5.41 20L4 18.59l7.72-7.72 1.47 1.35L5.41 20z\"/>\n",
              "  </svg>\n",
              "      </button>\n",
              "      \n",
              "  <style>\n",
              "    .colab-df-container {\n",
              "      display:flex;\n",
              "      flex-wrap:wrap;\n",
              "      gap: 12px;\n",
              "    }\n",
              "\n",
              "    .colab-df-convert {\n",
              "      background-color: #E8F0FE;\n",
              "      border: none;\n",
              "      border-radius: 50%;\n",
              "      cursor: pointer;\n",
              "      display: none;\n",
              "      fill: #1967D2;\n",
              "      height: 32px;\n",
              "      padding: 0 0 0 0;\n",
              "      width: 32px;\n",
              "    }\n",
              "\n",
              "    .colab-df-convert:hover {\n",
              "      background-color: #E2EBFA;\n",
              "      box-shadow: 0px 1px 2px rgba(60, 64, 67, 0.3), 0px 1px 3px 1px rgba(60, 64, 67, 0.15);\n",
              "      fill: #174EA6;\n",
              "    }\n",
              "\n",
              "    [theme=dark] .colab-df-convert {\n",
              "      background-color: #3B4455;\n",
              "      fill: #D2E3FC;\n",
              "    }\n",
              "\n",
              "    [theme=dark] .colab-df-convert:hover {\n",
              "      background-color: #434B5C;\n",
              "      box-shadow: 0px 1px 3px 1px rgba(0, 0, 0, 0.15);\n",
              "      filter: drop-shadow(0px 1px 2px rgba(0, 0, 0, 0.3));\n",
              "      fill: #FFFFFF;\n",
              "    }\n",
              "  </style>\n",
              "\n",
              "      <script>\n",
              "        const buttonEl =\n",
              "          document.querySelector('#df-6a57240c-ce78-495c-be51-eb6e35b28a88 button.colab-df-convert');\n",
              "        buttonEl.style.display =\n",
              "          google.colab.kernel.accessAllowed ? 'block' : 'none';\n",
              "\n",
              "        async function convertToInteractive(key) {\n",
              "          const element = document.querySelector('#df-6a57240c-ce78-495c-be51-eb6e35b28a88');\n",
              "          const dataTable =\n",
              "            await google.colab.kernel.invokeFunction('convertToInteractive',\n",
              "                                                     [key], {});\n",
              "          if (!dataTable) return;\n",
              "\n",
              "          const docLinkHtml = 'Like what you see? Visit the ' +\n",
              "            '<a target=\"_blank\" href=https://colab.research.google.com/notebooks/data_table.ipynb>data table notebook</a>'\n",
              "            + ' to learn more about interactive tables.';\n",
              "          element.innerHTML = '';\n",
              "          dataTable['output_type'] = 'display_data';\n",
              "          await google.colab.output.renderOutput(dataTable, element);\n",
              "          const docLink = document.createElement('div');\n",
              "          docLink.innerHTML = docLinkHtml;\n",
              "          element.appendChild(docLink);\n",
              "        }\n",
              "      </script>\n",
              "    </div>\n",
              "  </div>\n",
              "  "
            ],
            "text/plain": [
              "                                             Statement  True/False\n",
              "0     An COVID würden fast nur diejenigen Menschen ...       False\n",
              "1             Azithromycin kann das CovidVirus abtöten       False\n",
              "2     Bleichmittel zu trinken um das Virus im Körpe...       False\n",
              "3               Chloroquin kann das CovidVirus abtöten       False\n",
              "4     Die COVID19 Impfung schützt nicht nur die gei...        True\n",
              "..                                                 ...         ...\n",
              "952       mRNAImpfstoffe können unser Erbgut verändern       False\n",
              "953  mRNAImpfstoffe verändern die DNA im Körper der...       False\n",
              "954  okalreaktionen Schmerzen an der Einstichstelle...        True\n",
              "955  Ähnlich wie bei Erwachsenen ist der Schutz vor...        True\n",
              "956  Österreich war das erste Land in der Europäisc...        True\n",
              "\n",
              "[957 rows x 2 columns]"
            ]
          },
          "execution_count": 9,
          "metadata": {},
          "output_type": "execute_result"
        }
      ],
      "source": [
        "df_target"
      ]
    },
    {
      "cell_type": "markdown",
      "metadata": {
        "id": "dmTib3PA3dr7"
      },
      "source": [
        "#Preprocessing"
      ]
    },
    {
      "cell_type": "code",
      "execution_count": null,
      "metadata": {
        "id": "BXS0scbzIY4k"
      },
      "outputs": [],
      "source": [
        "#Preprocessing for dataframe\n",
        "def preprocess_df(input):\n",
        "  input = input.apply(lambda x: x.lower())   #lower case\n",
        "  input = input.apply(lambda x: x.strip())   #remove whitespace left and right\n",
        "  return input"
      ]
    },
    {
      "cell_type": "code",
      "execution_count": null,
      "metadata": {
        "id": "61E6m_6M2hb9"
      },
      "outputs": [],
      "source": [
        "df[\"Statement\"] = df[[\"Statement\"]].apply(preprocess_df)"
      ]
    },
    {
      "cell_type": "code",
      "execution_count": null,
      "metadata": {
        "id": "I1tkS0_w24jg"
      },
      "outputs": [],
      "source": [
        "#Preprocessing for user's sentence\n",
        "def preprocess_user(input):\n",
        "  input = input.lower()   #lower case\n",
        "  input = input.strip()   #remove whitespace left and right\n",
        "  return input"
      ]
    },
    {
      "cell_type": "code",
      "execution_count": null,
      "metadata": {
        "colab": {
          "base_uri": "https://localhost:8080/"
        },
        "id": "KBH1fKcWIqIL",
        "outputId": "7e498b27-ee07-4195-ceb1-492c5b7618cf"
      },
      "outputs": [
        {
          "name": "stdout",
          "output_type": "stream",
          "text": [
            "der covid19impfstoff spikevax von moderna ist jetzt in europa für die anwendung bei kindern ab 6 jahren zugelassen worden\n"
          ]
        }
      ],
      "source": [
        "example = preprocess_user(example)\n",
        "print(example)"
      ]
    },
    {
      "cell_type": "code",
      "execution_count": null,
      "metadata": {
        "colab": {
          "base_uri": "https://localhost:8080/"
        },
        "id": "ZIedhq4OBB_t",
        "outputId": "f0781dac-76f3-4d91-9731-7dd173216967"
      },
      "outputs": [
        {
          "name": "stderr",
          "output_type": "stream",
          "text": [
            "[nltk_data] Downloading package punkt to /root/nltk_data...\n",
            "[nltk_data]   Package punkt is already up-to-date!\n",
            "[nltk_data] Downloading package wordnet to /root/nltk_data...\n",
            "[nltk_data]   Package wordnet is already up-to-date!\n"
          ]
        },
        {
          "data": {
            "text/plain": [
              "True"
            ]
          },
          "execution_count": 14,
          "metadata": {},
          "output_type": "execute_result"
        }
      ],
      "source": [
        "#Tokenization: bringing sentences into world\n",
        "import nltk\n",
        "nltk.download(\"punkt\")\n",
        "nltk.download(\"wordnet\")"
      ]
    },
    {
      "cell_type": "code",
      "execution_count": null,
      "metadata": {
        "id": "G2JXhWol3xhc"
      },
      "outputs": [],
      "source": [
        "#Tokenization for dataframe\n",
        "def tokenize_df(input):\n",
        "  input = input.apply(lambda x: nltk.word_tokenize(x))\n",
        "  return input"
      ]
    },
    {
      "cell_type": "code",
      "execution_count": null,
      "metadata": {
        "id": "kGcqT5bx3uVC"
      },
      "outputs": [],
      "source": [
        "df[\"Statement\"] = df[[\"Statement\"]].apply(tokenize_df)"
      ]
    },
    {
      "cell_type": "code",
      "execution_count": null,
      "metadata": {
        "id": "vEkIG3y130zf"
      },
      "outputs": [],
      "source": [
        "#Tokenization for user's sentence\n",
        "def tokenize_user(input):\n",
        "  input = nltk.word_tokenize(input)\n",
        "  return input"
      ]
    },
    {
      "cell_type": "code",
      "execution_count": null,
      "metadata": {
        "colab": {
          "base_uri": "https://localhost:8080/"
        },
        "id": "agUe92i646kV",
        "outputId": "4486f1b3-e366-4bf8-e244-ab7686672ff0"
      },
      "outputs": [
        {
          "name": "stdout",
          "output_type": "stream",
          "text": [
            "['der', 'covid19impfstoff', 'spikevax', 'von', 'moderna', 'ist', 'jetzt', 'in', 'europa', 'für', 'die', 'anwendung', 'bei', 'kindern', 'ab', '6', 'jahren', 'zugelassen', 'worden']\n"
          ]
        }
      ],
      "source": [
        "example = tokenize_user(example)\n",
        "print(example)"
      ]
    },
    {
      "cell_type": "code",
      "execution_count": null,
      "metadata": {
        "colab": {
          "base_uri": "https://localhost:8080/"
        },
        "id": "QW1gsQiXBDUj",
        "outputId": "311f439c-3fca-4cdc-e5f9-cb11d3a8bf7d"
      },
      "outputs": [
        {
          "name": "stderr",
          "output_type": "stream",
          "text": [
            "[nltk_data] Downloading package stopwords to /root/nltk_data...\n",
            "[nltk_data]   Package stopwords is already up-to-date!\n"
          ]
        },
        {
          "data": {
            "text/plain": [
              "232"
            ]
          },
          "execution_count": 19,
          "metadata": {},
          "output_type": "execute_result"
        }
      ],
      "source": [
        "#Importing the stop words\n",
        "#German stop word library from nltk\n",
        "nltk.download(\"stopwords\")\n",
        "from nltk.corpus import stopwords\n",
        "\n",
        "stopWordsGerman = stopwords.words(\"german\")\n",
        "len(stopWordsGerman)   #232 words"
      ]
    },
    {
      "cell_type": "code",
      "execution_count": null,
      "metadata": {
        "id": "K7dV0GtkBzTT"
      },
      "outputs": [],
      "source": [
        "#Removing stop words in dataframe\n",
        "def remove_stopwords_df(input):\n",
        "  input = input.apply(lambda element: [word for word in element if not word in stopWordsGerman])\n",
        "  input = input.apply(lambda x: ' '.join([word for word in x]))   #You can join the list of above words to create a sentence without stop words, as shown below:\n",
        "  return input"
      ]
    },
    {
      "cell_type": "code",
      "execution_count": null,
      "metadata": {
        "id": "xmJHku4T5L9R"
      },
      "outputs": [],
      "source": [
        "df[\"Statement\"] = df[[\"Statement\"]].apply(remove_stopwords_df)"
      ]
    },
    {
      "cell_type": "code",
      "execution_count": null,
      "metadata": {
        "id": "ZnwBsRod6OPh"
      },
      "outputs": [],
      "source": [
        "#Removing stop words in user's sentence\n",
        "def remove_stopwords_user(input):\n",
        "  new_list = list()\n",
        "  for word in input:\n",
        "    if not word in stopWordsGerman:\n",
        "      new_list.append(word)\n",
        "  sentence_withoutstopwords = ' '.join(new_list)\n",
        "  return sentence_withoutstopwords"
      ]
    },
    {
      "cell_type": "code",
      "execution_count": null,
      "metadata": {
        "colab": {
          "base_uri": "https://localhost:8080/"
        },
        "id": "vPkAYtaH_wZa",
        "outputId": "04d49641-aa14-48c0-9c08-bd1961f13cc4"
      },
      "outputs": [
        {
          "name": "stdout",
          "output_type": "stream",
          "text": [
            "covid19impfstoff spikevax moderna europa anwendung kindern ab 6 jahren zugelassen worden\n"
          ]
        }
      ],
      "source": [
        "example = remove_stopwords_user(example)\n",
        "print(example)"
      ]
    },
    {
      "cell_type": "code",
      "execution_count": null,
      "metadata": {
        "colab": {
          "base_uri": "https://localhost:8080/",
          "height": 34
        },
        "id": "OUqC9rlYNvTV",
        "outputId": "a3bd16d8-9f61-433b-fcd4-c3c5e484b1bd"
      },
      "outputs": [
        {
          "data": {
            "application/javascript": "\n    async function download(id, filename, size) {\n      if (!google.colab.kernel.accessAllowed) {\n        return;\n      }\n      const div = document.createElement('div');\n      const label = document.createElement('label');\n      label.textContent = `Downloading \"${filename}\": `;\n      div.appendChild(label);\n      const progress = document.createElement('progress');\n      progress.max = size;\n      div.appendChild(progress);\n      document.body.appendChild(div);\n\n      const buffers = [];\n      let downloaded = 0;\n\n      const channel = await google.colab.kernel.comms.open(id);\n      // Send a message to notify the kernel that we're ready.\n      channel.send({})\n\n      for await (const message of channel.messages) {\n        // Send a message to notify the kernel that we're ready.\n        channel.send({})\n        if (message.buffers) {\n          for (const buffer of message.buffers) {\n            buffers.push(buffer);\n            downloaded += buffer.byteLength;\n            progress.value = downloaded;\n          }\n        }\n      }\n      const blob = new Blob(buffers, {type: 'application/binary'});\n      const a = document.createElement('a');\n      a.href = window.URL.createObjectURL(blob);\n      a.download = filename;\n      div.appendChild(a);\n      a.click();\n      div.remove();\n    }\n  ",
            "text/plain": [
              "<IPython.core.display.Javascript object>"
            ]
          },
          "metadata": {},
          "output_type": "display_data"
        },
        {
          "data": {
            "application/javascript": "download(\"download_1ba3b162-2b1f-460e-9983-e5259b19e562\", \"cleanedstatements.csv\", 256530)",
            "text/plain": [
              "<IPython.core.display.Javascript object>"
            ]
          },
          "metadata": {},
          "output_type": "display_data"
        }
      ],
      "source": [
        "#Saving data after preprocessing part 1 as \"cleanedstatements.csv\"\n",
        "from google.colab import files\n",
        "df.to_csv('cleanedstatements.csv')\n",
        "files.download('cleanedstatements.csv')"
      ]
    },
    {
      "cell_type": "markdown",
      "metadata": {
        "id": "VhUMifDkZ6t5"
      },
      "source": [
        "#Lemmatization"
      ]
    },
    {
      "cell_type": "code",
      "execution_count": null,
      "metadata": {
        "id": "MNtctxaTsfaF"
      },
      "outputs": [],
      "source": [
        "#Lemmatization\n",
        "#Preparation\n",
        "!pip install -U spacy                       #to install spacy-lemmatizer\n",
        "!python -m spacy download de_core_news_sm   #to download the German language module\n",
        "\n",
        "import spacy\n",
        "nlp = spacy.load(\"de_core_news_sm\")\n",
        "\n",
        "nlp.pipe_names   #to define specific lemmas yourself\n",
        "\n",
        "ar = nlp.get_pipe('attribute_ruler')\n",
        "\n",
        "#Phrases related to covid\n",
        "ar.add([[{\"TEXT\":\"vakzinen\"}],[{\"TEXT\":\"vakzine\"}],[{\"TEXT\":\"vaccination\"}],[{\"TEXT\":\"covid19impfung\"}],[{\"TEXT\":\"covidimpfung\"}],[{\"TEXT\":\"covid19schutzimpfung\"}],[{\"TEXT\":\"covidschutzimpfung\"}],[{\"TEXT\":\"coronaschutzimpfung\"}]],{\"LEMMA\":\"impfung\"})\n",
        "ar.add([[{\"TEXT\":\"impfstoffe\"}],[{\"TEXT\":\"impfstoffen\"}]],{\"LEMMA\":\"impfstoff\"})\n",
        "ar.add([[{\"TEXT\":\"covid19\"}],[{\"TEXT\":\"sarscov2\"}]],{\"LEMMA\":\"corona\"})\n",
        "ar.add([[{\"TEXT\":\"coronaerkrankung\"}],[{\"TEXT\":\"coronainfektion\"}],[{\"TEXT\":\"covid19infektion\"}],[{\"TEXT\":\"sarscov2infektion\"}]],{\"LEMMA\":\"corona\"})\n",
        "ar.add([[{\"TEXT\":\"covid19virus\"}],[{\"TEXT\":\"sarscov2virus\"}], [{\"TEXT\":\"coronaviren\"}]], {\"LEMMA\":\"coronavirus\"})\n",
        "ar.add([[{\"TEXT\":\"covid19impfstoff\"}],[{\"TEXT\":\"covidimpfstoffe\"}],[{\"TEXT\":\"covidimpfstoffe\"}]],{\"LEMMA\":\"coronaimpfstoff\"})\n",
        "ar.add([[{\"TEXT\":\"covid19auffrischimpfung\"}],[{\"TEXT\":\"covidauffrischimpfung\"}],[{\"TEXT\":\"coronaauffrischimpfung\"}],[{\"TEXT\":\"auffrischungsimpfung\"}],[{\"TEXT\":\"covid19auffrischungsimpfung\"}],[{\"TEXT\":\"covidiauffrischungsimpfung\"}],[{\"TEXT\":\"coronaauffrischungsimpfung\"}]],{\"LEMMA\":\"auffrischimpfung\"})\n",
        "\n",
        "#Other phrases\n",
        "ar.add([[{\"TEXT\":\"altersgruppe\"}]],{\"LEMMA\":\"altersklasse\"})\n",
        "ar.add([[{\"TEXT\":\"myokarditis\"}],[{\"TEXT\":\"myokarditiden\"}]],{\"LEMMA\":\"herzmuskelentzündung\"})\n",
        "ar.add([[{\"TEXT\":\"todesfälle\"}],[{\"TEXT\":\"sterbefall\"}],[{\"TEXT\":\"sterbefälle\"}],[{\"TEXT\":\"sterberate\"}],[{\"TEXT\":\"todesrate\"}]],{\"LEMMA\":\"todesfall\"})\n",
        "ar.add([[{\"TEXT\":\"fehlgeburten\"}],[{\"TEXT\":\"spontanabort\"}],[{\"TEXT\":\"fehlgeburt\"}],[{\"TEXT\":\"stillgeburt\"}],[{\"TEXT\":\"totgeburt\"}]],{\"LEMMA\":\"fehlgeburt\"})\n"
      ]
    },
    {
      "cell_type": "code",
      "execution_count": null,
      "metadata": {
        "id": "pkKqckwEJVBA"
      },
      "outputs": [],
      "source": [
        "df = pd.read_csv(\"cleanedstatements.csv\", index_col='Index')"
      ]
    },
    {
      "cell_type": "code",
      "execution_count": null,
      "metadata": {
        "id": "fQob3_NIYDdP"
      },
      "outputs": [],
      "source": [
        "def lemmatize_df(input):\n",
        "  lemmtext = []\n",
        "  doc = nlp(input)\n",
        "  input = [x.lemma_ for x in doc]\n",
        "  lemmtext.append(input)\n",
        "  input = ' '.join([word for word in input])\n",
        "  input = input.lower()   #Through lemmatization, words with capital letters reappeared, so make everything lower case again\n",
        "  return input"
      ]
    },
    {
      "cell_type": "code",
      "execution_count": null,
      "metadata": {
        "id": "83wxcXzmJit7"
      },
      "outputs": [],
      "source": [
        "df[\"Statement\"] = df[\"Statement\"].apply(lemmatize_df)"
      ]
    },
    {
      "cell_type": "code",
      "execution_count": null,
      "metadata": {
        "id": "Le3lHjK3G4on"
      },
      "outputs": [],
      "source": [
        "def lemmatize_user(input):\n",
        "  lemmtext = []\n",
        "  doc = nlp(input)\n",
        "  input = [x.lemma_ for x in doc]\n",
        "  lemmtext.append(input)\n",
        "  input = ' '.join(input)\n",
        "  input = input.lower()   #Through lemmatization, words with capital letters reappeared, so make everything lower case again\n",
        "  return input"
      ]
    },
    {
      "cell_type": "code",
      "execution_count": null,
      "metadata": {
        "colab": {
          "base_uri": "https://localhost:8080/"
        },
        "id": "HyVfB2geIyGY",
        "outputId": "678240b9-8955-401c-f077-97ac63b87c86"
      },
      "outputs": [
        {
          "name": "stdout",
          "output_type": "stream",
          "text": [
            "coronaimpfstoff spikevax moderna europa anwendung kind ab 6 jahr zulassen werden\n"
          ]
        }
      ],
      "source": [
        "example = lemmatize_user(example)\n",
        "print(example)"
      ]
    },
    {
      "cell_type": "code",
      "execution_count": null,
      "metadata": {
        "colab": {
          "base_uri": "https://localhost:8080/",
          "height": 34
        },
        "id": "TxpOekzcTuGU",
        "outputId": "afc17dc4-644d-442c-e9a9-aaec479e200a"
      },
      "outputs": [
        {
          "data": {
            "application/javascript": "\n    async function download(id, filename, size) {\n      if (!google.colab.kernel.accessAllowed) {\n        return;\n      }\n      const div = document.createElement('div');\n      const label = document.createElement('label');\n      label.textContent = `Downloading \"${filename}\": `;\n      div.appendChild(label);\n      const progress = document.createElement('progress');\n      progress.max = size;\n      div.appendChild(progress);\n      document.body.appendChild(div);\n\n      const buffers = [];\n      let downloaded = 0;\n\n      const channel = await google.colab.kernel.comms.open(id);\n      // Send a message to notify the kernel that we're ready.\n      channel.send({})\n\n      for await (const message of channel.messages) {\n        // Send a message to notify the kernel that we're ready.\n        channel.send({})\n        if (message.buffers) {\n          for (const buffer of message.buffers) {\n            buffers.push(buffer);\n            downloaded += buffer.byteLength;\n            progress.value = downloaded;\n          }\n        }\n      }\n      const blob = new Blob(buffers, {type: 'application/binary'});\n      const a = document.createElement('a');\n      a.href = window.URL.createObjectURL(blob);\n      a.download = filename;\n      div.appendChild(a);\n      a.click();\n      div.remove();\n    }\n  ",
            "text/plain": [
              "<IPython.core.display.Javascript object>"
            ]
          },
          "metadata": {},
          "output_type": "display_data"
        },
        {
          "data": {
            "application/javascript": "download(\"download_23542219-7810-4ca3-bf36-1bc028571c6c\", \"lemmatizedstatements.csv\", 251659)",
            "text/plain": [
              "<IPython.core.display.Javascript object>"
            ]
          },
          "metadata": {},
          "output_type": "display_data"
        }
      ],
      "source": [
        "#Saving data after lemmatization part 1 as \"lemmatizedstatements.csv\"\n",
        "from google.colab import files\n",
        "df.to_csv('lemmatizedstatements.csv')\n",
        "files.download('lemmatizedstatements.csv')"
      ]
    },
    {
      "cell_type": "markdown",
      "metadata": {
        "id": "cvqAiB0_7bWB"
      },
      "source": [
        "#Machine Learning Model: Logistic Regression"
      ]
    },
    {
      "cell_type": "code",
      "execution_count": null,
      "metadata": {
        "id": "Zq2q0fr_BEVl"
      },
      "outputs": [],
      "source": [
        "#Preparing fake news detector: training model with data"
      ]
    },
    {
      "cell_type": "code",
      "execution_count": null,
      "metadata": {
        "colab": {
          "base_uri": "https://localhost:8080/"
        },
        "id": "m25-rr-r7fV_",
        "outputId": "cd4af989-188c-4820-adbd-ae4620070bcf"
      },
      "outputs": [
        {
          "name": "stderr",
          "output_type": "stream",
          "text": [
            "[nltk_data] Downloading package stopwords to /root/nltk_data...\n",
            "[nltk_data]   Package stopwords is already up-to-date!\n"
          ]
        }
      ],
      "source": [
        "#Following code is from: https://www.kaggle.com/code/shahkan/text-classification-using-logistic-regression/data\n",
        "import re\n",
        "import matplotlib.pyplot as plt\n",
        "from nltk.corpus import stopwords\n",
        "from nltk.stem import PorterStemmer\n",
        "from sklearn.feature_extraction.text import TfidfVectorizer\n",
        "from sklearn.pipeline import Pipeline\n",
        "from sklearn.metrics import classification_report, confusion_matrix\n",
        "from sklearn.model_selection import train_test_split\n",
        "from sklearn.feature_selection import SelectKBest, chi2\n",
        "from sqlite3 import Error\n",
        "from sklearn.ensemble import RandomForestClassifier\n",
        "import sqlite3\n",
        "import pickle\n",
        "import nltk\n",
        "nltk.download('stopwords')\n",
        "%matplotlib inline"
      ]
    },
    {
      "cell_type": "code",
      "execution_count": null,
      "metadata": {
        "id": "eLgU6INwIKgG"
      },
      "outputs": [],
      "source": [
        "df = pd.read_csv('lemmatizedstatements.csv')"
      ]
    },
    {
      "cell_type": "code",
      "execution_count": null,
      "metadata": {
        "colab": {
          "base_uri": "https://localhost:8080/"
        },
        "id": "bUy8C-JzIN7s",
        "outputId": "899d62e0-5aa9-4c99-a3aa-0b125658c99c"
      },
      "outputs": [
        {
          "data": {
            "text/plain": [
              "(965, 872)"
            ]
          },
          "execution_count": 35,
          "metadata": {},
          "output_type": "execute_result"
        }
      ],
      "source": [
        "#Stopwords are the same as above\n",
        "vectorizer = TfidfVectorizer(min_df= 3, stop_words=stopWordsGerman, sublinear_tf=True, norm='l2', ngram_range=(1, 2))\n",
        "final_features = vectorizer.fit_transform(df['Statement']).toarray()\n",
        "final_features.shape"
      ]
    },
    {
      "cell_type": "code",
      "execution_count": null,
      "metadata": {
        "colab": {
          "base_uri": "https://localhost:8080/"
        },
        "id": "uaPVnxqtv3CU",
        "outputId": "2d482e4b-7782-4db2-ca77-e0071cf66e1e"
      },
      "outputs": [
        {
          "name": "stdout",
          "output_type": "stream",
          "text": [
            "[[0.31193371 0.68806629]\n",
            " [0.39779975 0.60220025]\n",
            " [0.45746318 0.54253682]\n",
            " ...\n",
            " [0.71854742 0.28145258]\n",
            " [0.46542948 0.53457052]\n",
            " [0.60385003 0.39614997]]\n",
            "              precision    recall  f1-score   support\n",
            "\n",
            "       False       0.87      0.78      0.83       139\n",
            "        True       0.82      0.89      0.85       151\n",
            "\n",
            "    accuracy                           0.84       290\n",
            "   macro avg       0.85      0.84      0.84       290\n",
            "weighted avg       0.84      0.84      0.84       290\n",
            "\n",
            "[[109  30]\n",
            " [ 16 135]]\n"
          ]
        }
      ],
      "source": [
        "#Alternative Logistic Regression model with code from: https://www.analyticsvidhya.com/blog/2021/04/beginners-guide-to-logistic-regression-using-python/ and': https://www.kaggle.com/code/shahkan/text-classification-using-logistic-regression/notebook\n",
        "\n",
        "from sklearn.linear_model import LogisticRegression\n",
        "X = df['Statement']   #input\n",
        "Y = df['True/False']  #output\n",
        "X_train, X_test, y_train, y_test = train_test_split(X, Y, test_size=0.3, random_state=42, stratify=Y)\n",
        "\n",
        "from sklearn.linear_model import LogisticRegression\n",
        "model = LogisticRegression()\n",
        "pipeline = Pipeline([('vect', vectorizer),\n",
        "                     ('chi',  SelectKBest(chi2, k=600)),\n",
        "                     ('clf', LogisticRegression(random_state=42))])\n",
        "model = pipeline.fit(X_train, y_train)\n",
        "predictions = model.predict(X_test)\n",
        "probability = model.predict_proba(X)\n",
        "print(probability)   #left column of matrix: probability of predicted output being 0, right column: probability of predicted output being 1; rows: per each of our statements\n",
        "\n",
        "from sklearn.metrics import classification_report\n",
        "print(classification_report(y_test, predictions))\n",
        "\n",
        "from sklearn.metrics import confusion_matrix\n",
        "print(confusion_matrix(y_test, \n",
        "predictions))"
      ]
    },
    {
      "cell_type": "markdown",
      "metadata": {
        "id": "rBzq3L-VBHvl"
      },
      "source": [
        "Creating Fake News Detector with Anvil"
      ]
    },
    {
      "cell_type": "code",
      "execution_count": null,
      "metadata": {
        "id": "J_qSlX0mqtsd"
      },
      "outputs": [],
      "source": [
        "!pip install -Uqq fastai --upgrade\n",
        "!pip install -Uqq fastcore --upgrade\n",
        "!pip install -Uqq pandas==1.1.0\n",
        "!pip install -Uqq anvil-uplink"
      ]
    },
    {
      "cell_type": "code",
      "execution_count": null,
      "metadata": {
        "id": "NBbvURLorJgV"
      },
      "outputs": [],
      "source": [
        "from fastai.text.all import load_learner\n",
        "import anvil.server"
      ]
    },
    {
      "cell_type": "code",
      "execution_count": null,
      "metadata": {
        "colab": {
          "base_uri": "https://localhost:8080/"
        },
        "id": "g1dBikVQrRfE",
        "outputId": "879d79d1-8c38-409e-9230-8f22421956d2"
      },
      "outputs": [
        {
          "name": "stdout",
          "output_type": "stream",
          "text": [
            "Connecting to wss://anvil.works/uplink\n",
            "Anvil websocket open\n",
            "Connected to \"Default environment\" as SERVER\n"
          ]
        }
      ],
      "source": [
        "anvil.server.connect(\"TKEAZQWDWYAZVEHF4EW3TN5F-XGIH7W2J3XZSQW46\")"
      ]
    },
    {
      "cell_type": "code",
      "execution_count": null,
      "metadata": {
        "id": "apZieRCXrqbl"
      },
      "outputs": [],
      "source": [
        "@anvil.server.callable\n",
        "def predict_app(input):\n",
        "  input = remove_punctuation_user(input)   #the different kinds of preprocessing steps also have to be applied to our user's input sentence - if not, the machine learning model will not understand the sentence and will not be able to categorize it into True or False\n",
        "  input = preprocess_user(input)\n",
        "  input = tokenize_user(input)\n",
        "  input = remove_stopwords_user(input)\n",
        "  input = lemmatize_user(input)\n",
        "  input = [input]\n",
        "  prediction = model.predict(input)\n",
        "  correct = \"The statement is correct\"\n",
        "  false = \"The statement is false\"\n",
        "  if prediction == 0:\n",
        "    preds = correct\n",
        "  else:\n",
        "    preds = false\n",
        "  return preds"
      ]
    },
    {
      "cell_type": "code",
      "execution_count": null,
      "metadata": {
        "id": "vkActF0LOLZ_"
      },
      "outputs": [],
      "source": [
        "#For demo:\n",
        "#URL to our application: https://XGIH7W2J3XZSQW46.anvil.app/3KGXEUN7XDU6WSMTXUMIEWAZ\n",
        "  #Correct statement #1: \"mRNA-Impfstoffe schützen vor schweren Verläufen.\"\n",
        "  #Correct statement #2: \"Die COVID-19-Impfstoffe schützen gut vor COVID-19.\"\n",
        "  #Correct statement #3: \"Es sind keine Mikrochips in Impfstoffen enthalten.\"\n",
        "  #False statement #1: \"Von Coronaimpfstoffen geht eine hohe Todesgefahr aus.\"\n",
        "  #False statement #2: \"Chloroquin kann das Covid-Virus abtöten. Impfungen sind unnötig.\"\n",
        "  #False statement #3: \"Personen mit besonders schwerem Verlauf weisen viele Antikörper gegen SARS-CoV-2 auf.\""
      ]
    },
    {
      "cell_type": "markdown",
      "metadata": {
        "id": "xkBm1UAT4gs2"
      },
      "source": [
        "#Installing libraries for Deep Learning"
      ]
    },
    {
      "cell_type": "code",
      "execution_count": null,
      "metadata": {
        "id": "o4EOeA9S0rvs"
      },
      "outputs": [],
      "source": [
        "pip install bayesian-optimization"
      ]
    },
    {
      "cell_type": "code",
      "execution_count": null,
      "metadata": {
        "id": "7YxIhAbZ0ZPv"
      },
      "outputs": [],
      "source": [
        "pip install keras-tuner --upgrade"
      ]
    },
    {
      "cell_type": "code",
      "execution_count": null,
      "metadata": {
        "id": "0maZ7pnm4LvF"
      },
      "outputs": [],
      "source": [
        "!pip install wordcloud"
      ]
    },
    {
      "cell_type": "code",
      "execution_count": null,
      "metadata": {
        "id": "0R80-FYi4Sj6"
      },
      "outputs": [],
      "source": [
        "import os\n",
        "os.environ[\"TF_CPP_MIN_LOG_LEVEL\"] = \"2\""
      ]
    },
    {
      "cell_type": "code",
      "execution_count": null,
      "metadata": {
        "colab": {
          "base_uri": "https://localhost:8080/"
        },
        "id": "fOF5DhzX4Wnh",
        "outputId": "2ce9214f-0fcd-4e65-9b46-de6316be79b5"
      },
      "outputs": [
        {
          "name": "stdout",
          "output_type": "stream",
          "text": [
            "No Warning Shown\n"
          ]
        }
      ],
      "source": [
        "import warnings\n",
        "warnings.filterwarnings('ignore')\n",
        "warnings.warn('DelftStack')\n",
        "warnings.warn('Do not show this message')\n",
        "print(\"No Warning Shown\")"
      ]
    },
    {
      "cell_type": "code",
      "execution_count": null,
      "metadata": {
        "id": "l7rkrieJ0weB"
      },
      "outputs": [],
      "source": [
        "from sklearn.svm import SVC\n",
        "from sklearn.preprocessing import StandardScaler\n",
        "from sklearn.model_selection import train_test_split\n",
        "from sklearn.pipeline import Pipeline\n",
        "from sklearn.metrics import classification_report\n",
        "\n",
        "from sklearn import svm\n",
        "from sklearn.ensemble import RandomForestClassifier\n",
        "from sklearn.linear_model import LogisticRegression\n",
        "from sklearn.pipeline import make_pipeline\n",
        "from sklearn.model_selection import GridSearchCV\n",
        "\n",
        "from sklearn.datasets import load_iris\n",
        "from sklearn.model_selection import train_test_split\n",
        "\n",
        "import matplotlib.pyplot as plt\n",
        "%matplotlib inline"
      ]
    },
    {
      "cell_type": "code",
      "execution_count": null,
      "metadata": {
        "id": "Kt95P9OU20Np"
      },
      "outputs": [],
      "source": [
        "import tensorflow as tf\n",
        "from tensorflow import keras\n",
        "from tensorflow.keras import layers\n",
        "from sklearn.preprocessing import LabelEncoder\n",
        "from collections import Counter\n",
        "from wordcloud import WordCloud,STOPWORDS\n",
        "from sklearn.metrics import classification_report,confusion_matrix,accuracy_score\n",
        "from keras.models import Sequential\n",
        "from keras.preprocessing.text import Tokenizer\n",
        "from tensorflow.keras.preprocessing.sequence import pad_sequences\n",
        "from keras.layers import Dense, Embedding, LSTM, SpatialDropout1D, Activation\n",
        "from keras.models import Sequential\n",
        "from keras.layers import Dense\n",
        "import keras_tuner\n",
        "from kerastuner.tuners import BayesianOptimization\n",
        "from kerastuner.tuners import RandomSearch\n",
        "from tensorflow.keras.models import load_model "
      ]
    },
    {
      "cell_type": "markdown",
      "metadata": {
        "id": "wvquArNiszti"
      },
      "source": [
        "#Deep Learning Model: Recurrent Neural Network (LSTM)"
      ]
    },
    {
      "cell_type": "code",
      "execution_count": null,
      "metadata": {
        "id": "dsqRcVTkt5Y3"
      },
      "outputs": [],
      "source": [
        "df = pd.read_csv('lemmatizedstatements.csv')"
      ]
    },
    {
      "cell_type": "code",
      "execution_count": null,
      "metadata": {
        "colab": {
          "base_uri": "https://localhost:8080/",
          "height": 676
        },
        "id": "oGnXUyx5uF8I",
        "outputId": "dc0fb75a-03b0-454c-edf3-39906edca021"
      },
      "outputs": [
        {
          "data": {
            "text/html": [
              "\n",
              "  <div id=\"df-136e4e6b-dc67-45c7-8cf5-a544297e3a12\">\n",
              "    <div class=\"colab-df-container\">\n",
              "      <div>\n",
              "<style scoped>\n",
              "    .dataframe tbody tr th:only-of-type {\n",
              "        vertical-align: middle;\n",
              "    }\n",
              "\n",
              "    .dataframe tbody tr th {\n",
              "        vertical-align: top;\n",
              "    }\n",
              "\n",
              "    .dataframe thead th {\n",
              "        text-align: right;\n",
              "    }\n",
              "</style>\n",
              "<table border=\"1\" class=\"dataframe\">\n",
              "  <thead>\n",
              "    <tr style=\"text-align: right;\">\n",
              "      <th></th>\n",
              "      <th>Statement</th>\n",
              "      <th>True/False</th>\n",
              "    </tr>\n",
              "  </thead>\n",
              "  <tbody>\n",
              "    <tr>\n",
              "      <th>0</th>\n",
              "      <td>jugendlich junger erwachsenen sein komplikatione impfung hinblick herzmuskelentzündung altersklasse verschwindend gering deutschland geben bisher bewiesen fall herzmuskelentzündung zusammenhang impfung altersklasse erklären terhardt</td>\n",
              "      <td>True</td>\n",
              "    </tr>\n",
              "    <tr>\n",
              "      <th>1</th>\n",
              "      <td>frühjahr 2021 berichte selten thrombose aufregung sorgen gehen thrombosemitthrombozytopeniesyndrom tts erkrankung selten potenziell gefährlich nebenwirkung vektorbasierten sarscov2impfstoffe betont gesellschaft thrombos hämostaseforschung gth</td>\n",
              "      <td>True</td>\n",
              "    </tr>\n",
              "    <tr>\n",
              "      <th>2</th>\n",
              "      <td>immunologe radbruch betonen geimpfte genesen effektiverer schutz reinfektion haben genesen geimpft</td>\n",
              "      <td>True</td>\n",
              "    </tr>\n",
              "    <tr>\n",
              "      <th>3</th>\n",
              "      <td>coronaimpfstoff spikevax moderna europa anwendung kind ab 6 jahr zulassen werden</td>\n",
              "      <td>True</td>\n",
              "    </tr>\n",
              "    <tr>\n",
              "      <th>4</th>\n",
              "      <td>zweiter empfehlen stiko impfstoff nuvaxovid grundimmunisierung person ab 18 jahr hierbei sein zwei impfstoffdose abstand mindestens drei woche geben</td>\n",
              "      <td>True</td>\n",
              "    </tr>\n",
              "    <tr>\n",
              "      <th>...</th>\n",
              "      <td>...</td>\n",
              "      <td>...</td>\n",
              "    </tr>\n",
              "    <tr>\n",
              "      <th>960</th>\n",
              "      <td>deutsch ärztetag zwangsimpfung kind beschließen</td>\n",
              "      <td>False</td>\n",
              "    </tr>\n",
              "    <tr>\n",
              "      <th>961</th>\n",
              "      <td>pfiz befürchten coronaimpfstoff geimpft ungeimpfte übertragbar sein gesundheitsrisiko ungeimpft darstell</td>\n",
              "      <td>False</td>\n",
              "    </tr>\n",
              "    <tr>\n",
              "      <th>962</th>\n",
              "      <td>aufgrund häufung todesfällen geben ursächlich zusammenhang impfung todesfäll</td>\n",
              "      <td>False</td>\n",
              "    </tr>\n",
              "    <tr>\n",
              "      <th>963</th>\n",
              "      <td>impfung coronaerkrankung verhindern impfstoff sicher</td>\n",
              "      <td>False</td>\n",
              "    </tr>\n",
              "    <tr>\n",
              "      <th>964</th>\n",
              "      <td>coronaimpfung immun immer mask tragen hersteller impfstoff hafen schäden</td>\n",
              "      <td>False</td>\n",
              "    </tr>\n",
              "  </tbody>\n",
              "</table>\n",
              "<p>965 rows × 2 columns</p>\n",
              "</div>\n",
              "      <button class=\"colab-df-convert\" onclick=\"convertToInteractive('df-136e4e6b-dc67-45c7-8cf5-a544297e3a12')\"\n",
              "              title=\"Convert this dataframe to an interactive table.\"\n",
              "              style=\"display:none;\">\n",
              "        \n",
              "  <svg xmlns=\"http://www.w3.org/2000/svg\" height=\"24px\"viewBox=\"0 0 24 24\"\n",
              "       width=\"24px\">\n",
              "    <path d=\"M0 0h24v24H0V0z\" fill=\"none\"/>\n",
              "    <path d=\"M18.56 5.44l.94 2.06.94-2.06 2.06-.94-2.06-.94-.94-2.06-.94 2.06-2.06.94zm-11 1L8.5 8.5l.94-2.06 2.06-.94-2.06-.94L8.5 2.5l-.94 2.06-2.06.94zm10 10l.94 2.06.94-2.06 2.06-.94-2.06-.94-.94-2.06-.94 2.06-2.06.94z\"/><path d=\"M17.41 7.96l-1.37-1.37c-.4-.4-.92-.59-1.43-.59-.52 0-1.04.2-1.43.59L10.3 9.45l-7.72 7.72c-.78.78-.78 2.05 0 2.83L4 21.41c.39.39.9.59 1.41.59.51 0 1.02-.2 1.41-.59l7.78-7.78 2.81-2.81c.8-.78.8-2.07 0-2.86zM5.41 20L4 18.59l7.72-7.72 1.47 1.35L5.41 20z\"/>\n",
              "  </svg>\n",
              "      </button>\n",
              "      \n",
              "  <style>\n",
              "    .colab-df-container {\n",
              "      display:flex;\n",
              "      flex-wrap:wrap;\n",
              "      gap: 12px;\n",
              "    }\n",
              "\n",
              "    .colab-df-convert {\n",
              "      background-color: #E8F0FE;\n",
              "      border: none;\n",
              "      border-radius: 50%;\n",
              "      cursor: pointer;\n",
              "      display: none;\n",
              "      fill: #1967D2;\n",
              "      height: 32px;\n",
              "      padding: 0 0 0 0;\n",
              "      width: 32px;\n",
              "    }\n",
              "\n",
              "    .colab-df-convert:hover {\n",
              "      background-color: #E2EBFA;\n",
              "      box-shadow: 0px 1px 2px rgba(60, 64, 67, 0.3), 0px 1px 3px 1px rgba(60, 64, 67, 0.15);\n",
              "      fill: #174EA6;\n",
              "    }\n",
              "\n",
              "    [theme=dark] .colab-df-convert {\n",
              "      background-color: #3B4455;\n",
              "      fill: #D2E3FC;\n",
              "    }\n",
              "\n",
              "    [theme=dark] .colab-df-convert:hover {\n",
              "      background-color: #434B5C;\n",
              "      box-shadow: 0px 1px 3px 1px rgba(0, 0, 0, 0.15);\n",
              "      filter: drop-shadow(0px 1px 2px rgba(0, 0, 0, 0.3));\n",
              "      fill: #FFFFFF;\n",
              "    }\n",
              "  </style>\n",
              "\n",
              "      <script>\n",
              "        const buttonEl =\n",
              "          document.querySelector('#df-136e4e6b-dc67-45c7-8cf5-a544297e3a12 button.colab-df-convert');\n",
              "        buttonEl.style.display =\n",
              "          google.colab.kernel.accessAllowed ? 'block' : 'none';\n",
              "\n",
              "        async function convertToInteractive(key) {\n",
              "          const element = document.querySelector('#df-136e4e6b-dc67-45c7-8cf5-a544297e3a12');\n",
              "          const dataTable =\n",
              "            await google.colab.kernel.invokeFunction('convertToInteractive',\n",
              "                                                     [key], {});\n",
              "          if (!dataTable) return;\n",
              "\n",
              "          const docLinkHtml = 'Like what you see? Visit the ' +\n",
              "            '<a target=\"_blank\" href=https://colab.research.google.com/notebooks/data_table.ipynb>data table notebook</a>'\n",
              "            + ' to learn more about interactive tables.';\n",
              "          element.innerHTML = '';\n",
              "          dataTable['output_type'] = 'display_data';\n",
              "          await google.colab.output.renderOutput(dataTable, element);\n",
              "          const docLink = document.createElement('div');\n",
              "          docLink.innerHTML = docLinkHtml;\n",
              "          element.appendChild(docLink);\n",
              "        }\n",
              "      </script>\n",
              "    </div>\n",
              "  </div>\n",
              "  "
            ],
            "text/plain": [
              "                                                                                                                                                                                                                                              Statement  \\\n",
              "0              jugendlich junger erwachsenen sein komplikatione impfung hinblick herzmuskelentzündung altersklasse verschwindend gering deutschland geben bisher bewiesen fall herzmuskelentzündung zusammenhang impfung altersklasse erklären terhardt   \n",
              "1    frühjahr 2021 berichte selten thrombose aufregung sorgen gehen thrombosemitthrombozytopeniesyndrom tts erkrankung selten potenziell gefährlich nebenwirkung vektorbasierten sarscov2impfstoffe betont gesellschaft thrombos hämostaseforschung gth   \n",
              "2                                                                                                                                                    immunologe radbruch betonen geimpfte genesen effektiverer schutz reinfektion haben genesen geimpft   \n",
              "3                                                                                                                                                                      coronaimpfstoff spikevax moderna europa anwendung kind ab 6 jahr zulassen werden   \n",
              "4                                                                                                  zweiter empfehlen stiko impfstoff nuvaxovid grundimmunisierung person ab 18 jahr hierbei sein zwei impfstoffdose abstand mindestens drei woche geben   \n",
              "..                                                                                                                                                                                                                                                  ...   \n",
              "960                                                                                                                                                                                                     deutsch ärztetag zwangsimpfung kind beschließen   \n",
              "961                                                                                                                                            pfiz befürchten coronaimpfstoff geimpft ungeimpfte übertragbar sein gesundheitsrisiko ungeimpft darstell   \n",
              "962                                                                                                                                                                        aufgrund häufung todesfällen geben ursächlich zusammenhang impfung todesfäll   \n",
              "963                                                                                                                                                                                                impfung coronaerkrankung verhindern impfstoff sicher   \n",
              "964                                                                                                                                                                            coronaimpfung immun immer mask tragen hersteller impfstoff hafen schäden   \n",
              "\n",
              "     True/False  \n",
              "0          True  \n",
              "1          True  \n",
              "2          True  \n",
              "3          True  \n",
              "4          True  \n",
              "..          ...  \n",
              "960       False  \n",
              "961       False  \n",
              "962       False  \n",
              "963       False  \n",
              "964       False  \n",
              "\n",
              "[965 rows x 2 columns]"
            ]
          },
          "execution_count": 50,
          "metadata": {},
          "output_type": "execute_result"
        }
      ],
      "source": [
        "a = df[['Statement', 'True/False']]\n",
        "a"
      ]
    },
    {
      "cell_type": "markdown",
      "metadata": {
        "id": "_Su6u_Max2Ij"
      },
      "source": [
        "Preparing the text and using it for a RNN:\n",
        "- 1) Count all the different words"
      ]
    },
    {
      "cell_type": "code",
      "execution_count": null,
      "metadata": {
        "id": "GdOGKD4qsy2o"
      },
      "outputs": [],
      "source": [
        "# prepare the text and use it for a RNN\n",
        "# 1) count all the different words\n",
        "from collections import Counter\n",
        "\n",
        "def counter_word(text_col):\n",
        "    count = Counter()\n",
        "    for text in text_col.values:  #for each lines\n",
        "        for word in text.split():  #we split the lines and iterate\n",
        "            count[word] +=1    # each time the word appears, we count it +1\n",
        "    return count\n",
        "counter = counter_word(a.Statement)"
      ]
    },
    {
      "cell_type": "code",
      "execution_count": null,
      "metadata": {
        "colab": {
          "base_uri": "https://localhost:8080/"
        },
        "id": "sL4HMarXtxFZ",
        "outputId": "887c056e-f71b-4537-b95d-5eef9bed74ca"
      },
      "outputs": [
        {
          "data": {
            "text/plain": [
              "3021"
            ]
          },
          "execution_count": 52,
          "metadata": {},
          "output_type": "execute_result"
        }
      ],
      "source": [
        "len(counter)"
      ]
    },
    {
      "cell_type": "code",
      "execution_count": null,
      "metadata": {
        "colab": {
          "base_uri": "https://localhost:8080/",
          "height": 198
        },
        "id": "RTUXMXbxxdhG",
        "outputId": "e4f193aa-df08-409e-fbaf-52a47d84768d"
      },
      "outputs": [
        {
          "data": {
            "image/png": "[encoded data removed]",
            "text/plain": [
              "<Figure size 432x288 with 1 Axes>"
            ]
          },
          "metadata": {
            "needs_background": "light"
          },
          "output_type": "display_data"
        }
      ],
      "source": [
        "import wordcloud\n",
        "common_words=''\n",
        "for i in a.Statement:\n",
        "    i = str(i)\n",
        "    tokens = i.split()\n",
        "    common_words += \" \".join(tokens)+\" \"\n",
        "wordcloud = wordcloud.WordCloud().generate(common_words)\n",
        "plt.imshow(wordcloud, interpolation='bilinear')\n",
        "plt.axis(\"off\")\n",
        "plt.show()"
      ]
    },
    {
      "cell_type": "code",
      "execution_count": null,
      "metadata": {
        "colab": {
          "base_uri": "https://localhost:8080/"
        },
        "id": "ebUfJ0DvxqgF",
        "outputId": "86147944-b581-4408-e2e9-5f73a7629a4d"
      },
      "outputs": [
        {
          "data": {
            "text/plain": [
              "[('impfung', 217),\n",
              " ('corona', 168),\n",
              " ('impfstoff', 126),\n",
              " ('person', 103),\n",
              " ('jahr', 74)]"
            ]
          },
          "execution_count": 54,
          "metadata": {},
          "output_type": "execute_result"
        }
      ],
      "source": [
        "counter.most_common(5)"
      ]
    },
    {
      "cell_type": "code",
      "execution_count": null,
      "metadata": {
        "id": "bOE8vVb6xsLM"
      },
      "outputs": [],
      "source": [
        "num_unique_words= len(counter)"
      ]
    },
    {
      "cell_type": "markdown",
      "metadata": {
        "id": "8hmxXgCIyIFt"
      },
      "source": [
        "Transforming our data and splitting it into train-, validation- and test data:"
      ]
    },
    {
      "cell_type": "code",
      "execution_count": null,
      "metadata": {
        "id": "2c6HpFuJynhs"
      },
      "outputs": [],
      "source": [
        "train = a.iloc[:,0].values # Statements\n",
        "test = a.iloc[:,1].values # True and Valse randomised as 0 and 1"
      ]
    },
    {
      "cell_type": "code",
      "execution_count": null,
      "metadata": {
        "id": "w4YjmOGQy7Qe"
      },
      "outputs": [],
      "source": [
        "# set aside 80% of train and test data for evaluation\n",
        "X_train, X_rest, y_train, y_rest = train_test_split(train, test,\n",
        "    train_size=0.8, shuffle = True, random_state = 8)  #0.8\n",
        "\n",
        "# Use the same function above for the validation set\n",
        "X_test, X_val, y_test, y_val = train_test_split(X_rest, y_rest,  #0.5\n",
        "    test_size=0.5, random_state= 8) # 0.5 x 0.2 = 0.1"
      ]
    },
    {
      "cell_type": "code",
      "execution_count": null,
      "metadata": {
        "colab": {
          "base_uri": "https://localhost:8080/"
        },
        "id": "72wj0q9Hy7_O",
        "outputId": "765405be-48a3-438f-ddbe-5aa743659151"
      },
      "outputs": [
        {
          "name": "stdout",
          "output_type": "stream",
          "text": [
            "X_train shape: (772,)\n",
            "X_test shape: (96,)\n",
            "X_val shape: (97,)\n",
            "y_train shape: (772,)\n",
            "y_test shape: (96,)\n",
            "y_val shape: (97,)\n"
          ]
        }
      ],
      "source": [
        "print(\"X_train shape: {}\".format(X_train.shape))\n",
        "print(\"X_test shape: {}\".format(X_test.shape))\n",
        "print(\"X_val shape: {}\".format(X_val.shape))\n",
        "print(\"y_train shape: {}\".format(y_train.shape))\n",
        "print(\"y_test shape: {}\".format(y_test.shape))\n",
        "print(\"y_val shape: {}\".format(y_val.shape))"
      ]
    },
    {
      "cell_type": "code",
      "execution_count": null,
      "metadata": {
        "id": "Fh8WEjVZzB0g"
      },
      "outputs": [],
      "source": [
        "# split text and  labels\n",
        "train_sentences = X_train   #the model learn your data.Set of data used for learning (by the model), that is, to fit the parameters to the machine learning model\n",
        "train_labels = y_train\n",
        "val_sentences = X_val       # the model provide an unbiased evaluation of a model fitted on the training dataset while tuning model hyperparameters.\n",
        "val_labels = y_val\n",
        "test_sentences = X_test     # unbiased evaluation of a final model fitted on the training dataset.\n",
        "test_label = y_test\n",
        "#test_label"
      ]
    },
    {
      "cell_type": "code",
      "execution_count": null,
      "metadata": {
        "colab": {
          "base_uri": "https://localhost:8080/"
        },
        "id": "YsmlngRwzEc5",
        "outputId": "1a255e07-a9e3-42fb-ecf9-4387ea49a0ef"
      },
      "outputs": [
        {
          "data": {
            "text/plain": [
              "((772,), (97,), (96,))"
            ]
          },
          "execution_count": 60,
          "metadata": {},
          "output_type": "execute_result"
        }
      ],
      "source": [
        "train_sentences.shape, val_sentences.shape,test_sentences.shape "
      ]
    },
    {
      "cell_type": "markdown",
      "metadata": {
        "id": "beD4KgiBzLjX"
      },
      "source": [
        "Tokenization of the statements: ( Doing it again here with Keras Tokenizer, as we are training our model with Keras ) "
      ]
    },
    {
      "cell_type": "code",
      "execution_count": null,
      "metadata": {
        "id": "TMyIQZ0hzIcp"
      },
      "outputs": [],
      "source": [
        "from tensorflow.keras.preprocessing.text import Tokenizer\n",
        "\n",
        "# vectorize a text corpus by turning each text into a sequence of integers\n",
        "\n",
        "tokenizer = Tokenizer(num_words= num_unique_words)\n",
        "tokenizer.fit_on_texts(train_sentences) # fit only to training"
      ]
    },
    {
      "cell_type": "code",
      "execution_count": null,
      "metadata": {
        "colab": {
          "base_uri": "https://localhost:8080/"
        },
        "id": "m4EVsw47zpYs",
        "outputId": "06b12008-2d1e-48da-9923-de5d64d6c73c"
      },
      "outputs": [
        {
          "data": {
            "text/plain": [
              "{'impfung': 1,\n",
              " 'corona': 2,\n",
              " 'impfstoff': 3,\n",
              " 'person': 4,\n",
              " 'geimpft': 5,\n",
              " 'werden': 6,\n",
              " 'mensch': 7,\n",
              " 'schwer': 8,\n",
              " 'ab': 9,\n",
              " 'jahr': 10,\n",
              " 'auffrischimpfung': 11,\n",
              " 'infektion': 12,\n",
              " 'empfehlen': 13,\n",
              " 'hoch': 14,\n",
              " 'kind': 15,\n",
              " 'impfen': 16,\n",
              " 'erkrankung': 17,\n",
              " 'ungeimpft': 18,\n",
              " 'geben': 19,\n",
              " 'comirnaty': 20,\n",
              " 'stiko': 21,\n",
              " 'zeigen': 22,\n",
              " 'virus': 23,\n",
              " 'daten': 24,\n",
              " 'risiko': 25,\n",
              " 'sterben': 26,\n",
              " 'mehr': 27,\n",
              " 'schützen': 28,\n",
              " 'schutz': 29,\n",
              " 'studie': 30,\n",
              " 'grundimmunisierung': 31,\n",
              " 'deutschland': 32,\n",
              " 'wirksamkeit': 33,\n",
              " 'monat': 34,\n",
              " 'laut': 35,\n",
              " '2': 36,\n",
              " 'selten': 37,\n",
              " 'coronavirus': 38,\n",
              " 'covid19impfstoffe': 39,\n",
              " 'moderna': 40,\n",
              " 'gegenüber': 41,\n",
              " 'mrnaimpfstoff': 42,\n",
              " 'impfstoffdosis': 43,\n",
              " 'führen': 44,\n",
              " 'sollen': 45,\n",
              " 'aktuell': 46,\n",
              " 'erster': 47,\n",
              " 'gut': 48,\n",
              " 'coronaimpfung': 49,\n",
              " '30': 50,\n",
              " 'erhalten': 51,\n",
              " 'nebenwirkung': 52,\n",
              " 'sein': 53,\n",
              " 'woche': 54,\n",
              " 'spikevax': 55,\n",
              " 'enthalten': 56,\n",
              " 'jedoch': 57,\n",
              " 'nuvaxovid': 58,\n",
              " 'zulassung': 59,\n",
              " '12': 60,\n",
              " 'deutlich': 61,\n",
              " 'körper': 62,\n",
              " 'zulassen': 63,\n",
              " '1': 64,\n",
              " 'zwei': 65,\n",
              " 'erfolgen': 66,\n",
              " 'kurz': 67,\n",
              " 'coronaimpfstoff': 68,\n",
              " 'auftreten': 69,\n",
              " 'treten': 70,\n",
              " 'fall': 71,\n",
              " 'johnson': 72,\n",
              " 'tag': 73,\n",
              " 'astrazeneca': 74,\n",
              " 'drei': 75,\n",
              " 'kommen': 76,\n",
              " '2021': 77,\n",
              " 'häufig': 78,\n",
              " 'menschlich': 79,\n",
              " 'mrnaimpfstoffen': 80,\n",
              " 'bestehen': 81,\n",
              " 'alt': 82,\n",
              " 'impfungen': 83,\n",
              " 'sowie': 84,\n",
              " 'können': 85,\n",
              " 'zweiter': 86,\n",
              " 'vollständig': 87,\n",
              " 'reaktion': 88,\n",
              " 'seit': 89,\n",
              " 'sicherheit': 90,\n",
              " 'belegen': 91,\n",
              " 'mrna': 92,\n",
              " 'darauf': 93,\n",
              " 'bisher': 94,\n",
              " 'der': 95,\n",
              " 'immunsystem': 96,\n",
              " 'bereits': 97,\n",
              " 'reduzieren': 98,\n",
              " 'impfschutz': 99,\n",
              " 'impfreaktion': 100,\n",
              " 'gefährlich': 101,\n",
              " 'covid19erkrankung': 102,\n",
              " 'lassen': 103,\n",
              " 'frau': 104,\n",
              " 'gelten': 105,\n",
              " 'lang': 106,\n",
              " 'aufgrund': 107,\n",
              " 'biontechpfizer': 108,\n",
              " '18': 109,\n",
              " 'abstand': 110,\n",
              " 'mindestens': 111,\n",
              " 'jugendlich': 112,\n",
              " 'symptomatisch': 113,\n",
              " 'zeit': 114,\n",
              " 'verabreichung': 115,\n",
              " 'neu': 116,\n",
              " 'todesfall': 117,\n",
              " '5': 118,\n",
              " 'jung': 119,\n",
              " 'weniger': 120,\n",
              " 'tragen': 121,\n",
              " 'spikeprotein': 122,\n",
              " 'video': 123,\n",
              " 'immunantwort': 124,\n",
              " 'impfstoffdosi': 125,\n",
              " 'beobachten': 126,\n",
              " 'medizinisch': 127,\n",
              " 'anwendung': 128,\n",
              " 'entwickeln': 129,\n",
              " 'schwangerschaft': 130,\n",
              " 'auslösen': 131,\n",
              " 'derzeit': 132,\n",
              " 'möglich': 133,\n",
              " 'infiziert': 134,\n",
              " 'vier': 135,\n",
              " 'omikronvariante': 136,\n",
              " 'gering': 137,\n",
              " 'einrichtung': 138,\n",
              " 'ständig': 139,\n",
              " 'impfkommission': 140,\n",
              " 'coronaimpfstoffe': 141,\n",
              " 'stark': 142,\n",
              " 'deltavariant': 143,\n",
              " 'vaxzevria': 144,\n",
              " 'schutzwirkung': 145,\n",
              " 'kindern': 146,\n",
              " 'erhöht': 147,\n",
              " 'impfstoffs': 148,\n",
              " 'covid19impfungen': 149,\n",
              " 'vergleich': 150,\n",
              " 'rki': 151,\n",
              " 'covid': 152,\n",
              " 'regel': 153,\n",
              " 'deltavarianter': 154,\n",
              " 'genom': 155,\n",
              " 'dna': 156,\n",
              " 'beispiel': 157,\n",
              " 'natürlich': 158,\n",
              " 'vieler': 159,\n",
              " 'weit': 160,\n",
              " 'prozent': 161,\n",
              " 'symptom': 162,\n",
              " 'sicher': 163,\n",
              " 'liegen': 164,\n",
              " 'vaccin': 165,\n",
              " 'wegen': 166,\n",
              " 'müssen': 167,\n",
              " 'erkranken': 168,\n",
              " 'sogenannter': 169,\n",
              " 'zusätzlich': 170,\n",
              " 'enthalt': 171,\n",
              " 'immunität': 172,\n",
              " 'bekommen': 173,\n",
              " 'dezember': 174,\n",
              " 'biontech': 175,\n",
              " 'verwenden': 176,\n",
              " '15': 177,\n",
              " 'fehlgeburt': 178,\n",
              " 'biontechpfiz': 179,\n",
              " 'weisen': 180,\n",
              " 'insbesondere': 181,\n",
              " 'tod': 182,\n",
              " 'bieten': 183,\n",
              " 'boosterimpfung': 184,\n",
              " 'verändern': 185,\n",
              " 'allgemein': 186,\n",
              " 'spät': 187,\n",
              " 'nebenwirkungen': 188,\n",
              " 'antikörper': 189,\n",
              " 'blut': 190,\n",
              " 'trotz': 191,\n",
              " 'frühestens': 192,\n",
              " 'bei': 193,\n",
              " 'verhindern': 194,\n",
              " '6': 195,\n",
              " 'million': 196,\n",
              " 'zeig': 197,\n",
              " 'impfstoffdose': 198,\n",
              " 'stellen': 199,\n",
              " 'impfpflicht': 200,\n",
              " 'erst': 201,\n",
              " 'durchgemacht': 202,\n",
              " 'abtöten': 203,\n",
              " 'europäisch': 204,\n",
              " 'infizieren': 205,\n",
              " 'steigen': 206,\n",
              " 'wahrscheinlichkeit': 207,\n",
              " 'impfend': 208,\n",
              " '2020': 209,\n",
              " 'novavax': 210,\n",
              " 'herzmuskel': 211,\n",
              " 'jugendliche': 212,\n",
              " 'kontakt': 213,\n",
              " 'asymptomatisch': 214,\n",
              " 'verursachen': 215,\n",
              " 'davon': 216,\n",
              " 'nutzen': 217,\n",
              " 'notwendig': 218,\n",
              " 'schnell': 219,\n",
              " '14': 220,\n",
              " '3': 221,\n",
              " 'zwangsimpfung': 222,\n",
              " 'zufolge': 223,\n",
              " 'dosis': 224,\n",
              " 'gefahr': 225,\n",
              " 'personal': 226,\n",
              " '20': 227,\n",
              " 'lässt': 228,\n",
              " 'pcrtest': 229,\n",
              " 'eu': 230,\n",
              " 'beweisen': 231,\n",
              " 'zudem': 232,\n",
              " 'janssen': 233,\n",
              " 'erwarten': 234,\n",
              " 'inhaltsstoff': 235,\n",
              " 'pfiz': 236,\n",
              " 'mrnaimpfstoffs': 237,\n",
              " 'übermitteln': 238,\n",
              " 'täglich': 239,\n",
              " 'tödlich': 240,\n",
              " 'hinweis': 241,\n",
              " 'insgesamt': 242,\n",
              " 'relevant': 243,\n",
              " 'fast': 244,\n",
              " 'fordern': 245,\n",
              " 'unwirksam': 246,\n",
              " 'who': 247,\n",
              " 'anaphylaktisch': 248,\n",
              " 'einführung': 249,\n",
              " 'zunächst': 250,\n",
              " 'einsatz': 251,\n",
              " 'µg': 252,\n",
              " 'klinisch': 253,\n",
              " 'nachweisen': 254,\n",
              " 'altersklasse': 255,\n",
              " 'etwa': 256,\n",
              " 'erreichen': 257,\n",
              " 'herzmuskelentzündung': 258,\n",
              " 'innerhalb': 259,\n",
              " 'befinden': 260,\n",
              " 'stehen': 261,\n",
              " 'zusammenhang': 262,\n",
              " 'basis': 263,\n",
              " 'töten': 264,\n",
              " 'übertragen': 265,\n",
              " 'sechs': 266,\n",
              " 'zeitpunkt': 267,\n",
              " '4': 268,\n",
              " 'wirken': 269,\n",
              " 'schwanger': 270,\n",
              " 'zugelassenen': 271,\n",
              " 'häufigkeit': 272,\n",
              " 'patient': 273,\n",
              " 'krebs': 274,\n",
              " 'prioritär': 275,\n",
              " 'omikronvariant': 276,\n",
              " 'deutsch': 277,\n",
              " 'anzahl': 278,\n",
              " 'gesundheitlich': 279,\n",
              " 'immer': 280,\n",
              " 'bill': 281,\n",
              " 'betragen': 282,\n",
              " 'pandemie': 283,\n",
              " 'krankheit': 284,\n",
              " 'arzneimittelbehörde': 285,\n",
              " 'daher': 286,\n",
              " 'verlauf': 287,\n",
              " 'maske': 288,\n",
              " 'veränderung': 289,\n",
              " 'positiv': 290,\n",
              " 'bekannt': 291,\n",
              " 'gefährden': 292,\n",
              " 'durchsetzen': 293,\n",
              " 'bisherig': 294,\n",
              " 'omikron': 295,\n",
              " 'bzw': 296,\n",
              " 'beziehungsweise': 297,\n",
              " 'ebenfalls': 298,\n",
              " 'zweitimpfung': 299,\n",
              " 'virusvariant': 300,\n",
              " 'gabe': 301,\n",
              " 'durchführen': 302,\n",
              " 'dürfen': 303,\n",
              " 'genesen': 304,\n",
              " 'auffrischungsimpfung': 305,\n",
              " 'ausreichend': 306,\n",
              " 'viren': 307,\n",
              " 'österreich': 308,\n",
              " 'verabreichen': 309,\n",
              " 'unerwünscht': 310,\n",
              " 'prüfung': 311,\n",
              " 'impfabstand': 312,\n",
              " 'dosen': 313,\n",
              " 'krankenhaus': 314,\n",
              " 'vorliegend': 315,\n",
              " 'beeinträchtigen': 316,\n",
              " 'schwangeren': 317,\n",
              " 'verläufe': 318,\n",
              " 'sarscov2infektion': 319,\n",
              " 'behörde': 320,\n",
              " 'impfserie': 321,\n",
              " 'nie': 322,\n",
              " 'generell': 323,\n",
              " 'zulassungsstudien': 324,\n",
              " 'berichten': 325,\n",
              " 'alter': 326,\n",
              " '100': 327,\n",
              " 'weder': 328,\n",
              " 'impfquot': 329,\n",
              " 'mrnaimpfstoffe': 330,\n",
              " 'form': 331,\n",
              " 'zugelassen': 332,\n",
              " 'portal': 333,\n",
              " 'vermehrungsfähig': 334,\n",
              " 'adenovir': 335,\n",
              " 'bayerisch': 336,\n",
              " 'impfpass': 337,\n",
              " 'eltern': 338,\n",
              " 'haben': 339,\n",
              " 'empfehlung': 340,\n",
              " 'einhalten': 341,\n",
              " 'erkenntnisse': 342,\n",
              " 'gehen': 343,\n",
              " 'pims': 344,\n",
              " 'bewohnerinnen': 345,\n",
              " 'anbieten': 346,\n",
              " 'darüber': 347,\n",
              " '60': 348,\n",
              " 'krankheitsverlauf': 349,\n",
              " 'dabei': 350,\n",
              " 'beispielsweise': 351,\n",
              " 'anhaltend': 352,\n",
              " 'gates': 353,\n",
              " 'weltweit': 354,\n",
              " 'wichtig': 355,\n",
              " 'einsetzen': 356,\n",
              " 'parasit': 357,\n",
              " 'steigend': 358,\n",
              " 'mehrere': 359,\n",
              " 'pfizer': 360,\n",
              " 'lebensversicherung': 361,\n",
              " 'immunschwäch': 362,\n",
              " 'oktober': 363,\n",
              " 'produktspezifisch': 364,\n",
              " 'kontraindikation': 365,\n",
              " 'zahl': 366,\n",
              " 'fünf': 367,\n",
              " 'unklar': 368,\n",
              " 'genetisch': 369,\n",
              " 'krankheitszeich': 370,\n",
              " 'mrnaimpfung': 371,\n",
              " 'untersuchung': 372,\n",
              " 'rahmen': 373,\n",
              " 'verschieden': 374,\n",
              " 'verwendung': 375,\n",
              " 'sehen': 376,\n",
              " 'akut': 377,\n",
              " 'namens': 378,\n",
              " 'nachdem': 379,\n",
              " 'unabhängig': 380,\n",
              " 'reichen': 381,\n",
              " 'dritter': 382,\n",
              " 'land': 383,\n",
              " 'zählen': 384,\n",
              " 'wer': 385,\n",
              " 'inkubationszeit': 386,\n",
              " 'heterolog': 387,\n",
              " 'erstimpfung': 388,\n",
              " 'proteine': 389,\n",
              " 'impfstatus': 390,\n",
              " 'gesichtslähmung': 391,\n",
              " 'ereignis': 392,\n",
              " 'auftret': 393,\n",
              " 'erwachsen': 394,\n",
              " 'mrnaimpfstoffdosis': 395,\n",
              " 'schwangerer': 396,\n",
              " 'voll': 397,\n",
              " 'helfen': 398,\n",
              " 'mobile': 399,\n",
              " 'apotheke': 400,\n",
              " 'digital': 401,\n",
              " 'university': 402,\n",
              " 'erhöhen': 403,\n",
              " 'aufbauen': 404,\n",
              " 'dar': 405,\n",
              " 'tot': 406,\n",
              " 'empfohlen': 407,\n",
              " 'unsicher': 408,\n",
              " 'vorerkrankungen': 409,\n",
              " 'ebenso': 410,\n",
              " 'wirklich': 411,\n",
              " 'abnehmen': 412,\n",
              " 'geimpften': 413,\n",
              " 'aufgetret': 414,\n",
              " 'testen': 415,\n",
              " 'miracle': 416,\n",
              " 'mineral': 417,\n",
              " 'supplement': 418,\n",
              " 'placebogruppe': 419,\n",
              " 'zurückführen': 420,\n",
              " 'covid19erkrankungen': 421,\n",
              " 'stelle': 422,\n",
              " 'verhinderung': 423,\n",
              " 'trinken': 424,\n",
              " 'erheblich': 425,\n",
              " 'bezeichnen': 426,\n",
              " 'firma': 427,\n",
              " 'herzbeutelentzündungen': 428,\n",
              " 'mann': 429,\n",
              " 'einstufen': 430,\n",
              " 'ivermectin': 431,\n",
              " 'paulehrlichinstitut': 432,\n",
              " '80': 433,\n",
              " '11jährig': 434,\n",
              " 'vergleichsweise': 435,\n",
              " 'astrazenecaimpfstoff': 436,\n",
              " 'thrombosen': 437,\n",
              " 'covid19vektorimpfstoffe': 438,\n",
              " 'außerhalb': 439,\n",
              " 'zellen': 440,\n",
              " 'impfschäden': 441,\n",
              " 'sprechen': 442,\n",
              " 'nachbeobachtungszeit': 443,\n",
              " 'minute': 444,\n",
              " 'aufweisen': 445,\n",
              " 'groß': 446,\n",
              " 'israel': 447,\n",
              " 'bezüglich': 448,\n",
              " 'robert': 449,\n",
              " 'zerstören': 450,\n",
              " 'märz': 451,\n",
              " 'kombination': 452,\n",
              " 'azithromycin': 453,\n",
              " 'behandlung': 454,\n",
              " 'mutter': 455,\n",
              " 'lange': 456,\n",
              " 'leben': 457,\n",
              " 'vir': 458,\n",
              " 'vergleichbar': 459,\n",
              " 'nehmen': 460,\n",
              " 'antikörperspiegel': 461,\n",
              " 'hinaus': 462,\n",
              " 'zuvor': 463,\n",
              " 'allergisch': 464,\n",
              " 'kontinuierlich': 465,\n",
              " 'beschließen': 466,\n",
              " 'booster': 467,\n",
              " 'wissen': 468,\n",
              " 'mitarbeiter': 469,\n",
              " 'unfallversicherung': 470,\n",
              " 'ändern': 471,\n",
              " 'schließen': 472,\n",
              " 'impfstoffdosen': 473,\n",
              " 'fatigue': 474,\n",
              " 'rot': 475,\n",
              " 'sodass': 476,\n",
              " 'usa': 477,\n",
              " 'abschaffen': 478,\n",
              " 'erneut': 479,\n",
              " 'immungesund': 480,\n",
              " '50': 481,\n",
              " 'schnelltest': 482,\n",
              " 'impfintervall': 483,\n",
              " 'verbieten': 484,\n",
              " 'fakeimpfung': 485,\n",
              " 'stillzeit': 486,\n",
              " 'entzündlich': 487,\n",
              " 'bericht': 488,\n",
              " 'langzeitfolg': 489,\n",
              " 'behandeln': 490,\n",
              " 'einzelfäll': 491,\n",
              " 'weiterhin': 492,\n",
              " 'umfangreich': 493,\n",
              " 'serologisch': 494,\n",
              " 'definieren': 495,\n",
              " 'bewerten': 496,\n",
              " 'covidimpfungen': 497,\n",
              " 'gesamt': 498,\n",
              " 'beide': 499,\n",
              " 'verfügbaren': 500,\n",
              " 'covid19impfstoffen': 501,\n",
              " 'pcrpositiv': 502,\n",
              " 'ziel': 503,\n",
              " 'verläuf': 504,\n",
              " 'aufklärung': 505,\n",
              " 'totimpfstoff': 506,\n",
              " 'biontechimpfstoff': 507,\n",
              " 'anhalten': 508,\n",
              " 'integration': 509,\n",
              " 'anstecken': 510,\n",
              " '70': 511,\n",
              " 'gericht': 512,\n",
              " 'schwerwiegend': 513,\n",
              " 'wirksam': 514,\n",
              " 'schon': 515,\n",
              " 'infolge': 516,\n",
              " 'erhalt': 517,\n",
              " 'januar': 518,\n",
              " 'körperzell': 519,\n",
              " 'datenlage': 520,\n",
              " 'bestimmt': 521,\n",
              " 'produzieren': 522,\n",
              " 'lungenentzündung': 523,\n",
              " 'betreiben': 524,\n",
              " 'dokument': 525,\n",
              " 'impfempfehlung': 526,\n",
              " 'neben': 527,\n",
              " 'fieber': 528,\n",
              " 'krankenschwester': 529,\n",
              " 'heiß': 530,\n",
              " 'impfstoffes': 531,\n",
              " 'bestandteil': 532,\n",
              " 'einzeln': 533,\n",
              " 'arztpraxen': 534,\n",
              " 'mal': 535,\n",
              " 'ungeimpfte': 536,\n",
              " 'herzbeutelentzündung': 537,\n",
              " '1217jährig': 538,\n",
              " 'übertragung': 539,\n",
              " 'ungeimpfen': 540,\n",
              " 'konzentration': 541,\n",
              " 'problem': 542,\n",
              " 'covid19impfstoff': 543,\n",
              " '2022': 544,\n",
              " 'intensivstation': 545,\n",
              " 'wissenschaftlich': 546,\n",
              " 'coronavirusimpfverordnung': 547,\n",
              " 'prüfen': 548,\n",
              " 'fieberhaft': 549,\n",
              " 'unfruchtbarkeit': 550,\n",
              " 'australien': 551,\n",
              " 'nähe': 552,\n",
              " 'alkohol': 553,\n",
              " 'proteinimpfstoff': 554,\n",
              " 'mild': 555,\n",
              " 'impfschema': 556,\n",
              " 'niedrig': 557,\n",
              " 'studienergebnisse': 558,\n",
              " 'sagen': 559,\n",
              " 'gewährleisten': 560,\n",
              " 'danach': 561,\n",
              " 'erkennen': 562,\n",
              " 'kamera': 563,\n",
              " 'halten': 564,\n",
              " 'direkt': 565,\n",
              " 'verträglichkeit': 566,\n",
              " 'stillend': 567,\n",
              " 'folge': 568,\n",
              " 'erreger': 569,\n",
              " 'sinnvoll': 570,\n",
              " 'myokarditisrisiko': 571,\n",
              " '56': 572,\n",
              " 'sinken': 573,\n",
              " 'säugling': 574,\n",
              " 'immunschutz': 575,\n",
              " 'deswegen': 576,\n",
              " 'neugeborenen': 577,\n",
              " 'impfzentren': 578,\n",
              " 'dr': 579,\n",
              " 'ehemalig': 580,\n",
              " 'behaupten': 581,\n",
              " 'fallen': 582,\n",
              " 'b': 583,\n",
              " 'alkoholkonsum': 584,\n",
              " 'fähigkeit': 585,\n",
              " 'covid19verläufe': 586,\n",
              " 'komplikationen': 587,\n",
              " 'risikofaktor': 588,\n",
              " 'donnerstag': 589,\n",
              " 'entscheiden': 590,\n",
              " 'september': 591,\n",
              " 'einkaufen': 592,\n",
              " 'zusammen': 593,\n",
              " 'möglichst': 594,\n",
              " 'frühzeitig': 595,\n",
              " 'laufend': 596,\n",
              " 'glas': 597,\n",
              " 'teil': 598,\n",
              " 'impfkampagne': 599,\n",
              " 'präsident': 600,\n",
              " 'verwandeln': 601,\n",
              " 'eigen': 602,\n",
              " 'anzeich': 603,\n",
              " 'desinfektionsmittel': 604,\n",
              " 'kochsalzlösung': 605,\n",
              " 'effektiv': 606,\n",
              " 'kündigen': 607,\n",
              " 'teilnehmer': 608,\n",
              " 'hospitalisierung': 609,\n",
              " 'vermeiden': 610,\n",
              " 'übermittlung': 611,\n",
              " 'pei': 612,\n",
              " '10': 613,\n",
              " '90': 614,\n",
              " 'feststellen': 615,\n",
              " '11': 616,\n",
              " 'erwachsener': 617,\n",
              " 'verschlimmern': 618,\n",
              " 'statt': 619,\n",
              " 'traditionell': 620,\n",
              " 'mittel': 621,\n",
              " 'erwägen': 622,\n",
              " 'erzielen': 623,\n",
              " 'aggregiert': 624,\n",
              " 'verband': 625,\n",
              " 'privatärztlich': 626,\n",
              " 'verrechnungsstellen': 627,\n",
              " 'ev': 628,\n",
              " 'pvs': 629,\n",
              " 'bewertung': 630,\n",
              " 'qualität': 631,\n",
              " 'ffp2': 632,\n",
              " 'masken': 633,\n",
              " 'metallfäd': 634,\n",
              " 'roboter': 635,\n",
              " 'bevölkerungsimmunität': 636,\n",
              " 'ausbilden': 637,\n",
              " 'vorliegen': 638,\n",
              " 'verbleeben': 639,\n",
              " 'extrachromosomal': 640,\n",
              " 'zellker': 641,\n",
              " 'übernehmen': 642,\n",
              " 'wien': 643,\n",
              " 'einliefern': 644,\n",
              " 'ministerpräsident': 645,\n",
              " 'markus': 646,\n",
              " 'stadt': 647,\n",
              " 'maskenverweigerer': 648,\n",
              " 'erbgut': 649,\n",
              " 'frankreich': 650,\n",
              " 'supermarken': 651,\n",
              " 'eng': 652,\n",
              " 'vulnerabl': 653,\n",
              " 'stoff': 654,\n",
              " 'schaden': 655,\n",
              " 'vermuten': 656,\n",
              " 'sarscov2infizierte': 657,\n",
              " 'erleiden': 658,\n",
              " 'nichtschwang': 659,\n",
              " 'impfschauspielr': 660,\n",
              " 'deuten': 661,\n",
              " 'unterschied': 662,\n",
              " 'impfstoffwirksamkeit': 663,\n",
              " '2malige': 664,\n",
              " 'auftrat': 665,\n",
              " 'kontrollgruppe': 666,\n",
              " 'vergleichen': 667,\n",
              " 'veröffentlichen': 668,\n",
              " 'kochinstitut': 669,\n",
              " 'möglichkeit': 670,\n",
              " 'impfnachweis': 671,\n",
              " 'klein': 672,\n",
              " 'britisch': 673,\n",
              " 'verschweigen': 674,\n",
              " 'chloroquin': 675,\n",
              " 'fetus': 676,\n",
              " 'verlängern': 677,\n",
              " 'verpflichten': 678,\n",
              " 'regelmäßig': 679,\n",
              " 'nase': 680,\n",
              " 'us': 681,\n",
              " 'verändert': 682,\n",
              " 'lebendimpfstoffen': 683,\n",
              " 'gemäß': 684,\n",
              " 'vektorbasierten': 685,\n",
              " 'longcovid': 686,\n",
              " 'auswirkung': 687,\n",
              " 'psychisch': 688,\n",
              " 'gesundheit': 689,\n",
              " 'idr': 690,\n",
              " 'vorübergehend': 691,\n",
              " 'covidvirus': 692,\n",
              " 'vorbeugung': 693,\n",
              " 'immunisieren': 694,\n",
              " 'pflege': 695,\n",
              " 'schützend': 696,\n",
              " 'vertragsärztinnen': 697,\n",
              " 'bundesvereinigung': 698,\n",
              " 'kbv': 699,\n",
              " 'mikrogramm': 700,\n",
              " 'frühjahr': 701,\n",
              " '25': 702,\n",
              " '36': 703,\n",
              " 'homöopathie': 704,\n",
              " 'nadel': 705,\n",
              " 'adac': 706,\n",
              " 'covid19impfung': 707,\n",
              " 'covid19impfstoffs': 708,\n",
              " 'amerikanisch': 709,\n",
              " 'kreuz': 710,\n",
              " 'verweigern': 711,\n",
              " 'blutspend': 712,\n",
              " 'graphenoxid': 713,\n",
              " 'gefährdet': 714,\n",
              " 'überwachen': 715,\n",
              " 'unterschiedlich': 716,\n",
              " 'oberer': 717,\n",
              " 'gerichtshof': 718,\n",
              " 'gesund': 719,\n",
              " 'dosierung': 720,\n",
              " 'abstrichstäbch': 721,\n",
              " 'überführen': 722,\n",
              " 'inszenierung': 723,\n",
              " 'ema': 724,\n",
              " 'nuvoxavid': 725,\n",
              " 'thrombose': 726,\n",
              " 'potenziell': 727,\n",
              " 'sarscov2impfstoffe': 728,\n",
              " 'gesellschaft': 729,\n",
              " 'immundefizienz': 730,\n",
              " 'id': 731,\n",
              " 'grundsätzlich': 732,\n",
              " 'langzeitnebenwirkung': 733,\n",
              " '2620': 734,\n",
              " 'homöopathieorganisation': 735,\n",
              " 'hahnemanngesellschaft': 736,\n",
              " 'schutzmaßnahm': 737,\n",
              " 'lüften': 738,\n",
              " 'einnahme': 739,\n",
              " 'desinfektionsmitteln': 740,\n",
              " 'jetzig': 741,\n",
              " 'impfunger': 742,\n",
              " 'impftempo': 743,\n",
              " 'infektionen': 744,\n",
              " 'zirkulierend': 745,\n",
              " 'systemisch': 746,\n",
              " 'universität': 747,\n",
              " 'oxford': 748,\n",
              " 'ergeben': 749,\n",
              " 'somit': 750,\n",
              " 'superspread': 751,\n",
              " 'verkaufen': 752,\n",
              " 'vorweis': 753,\n",
              " 'fördern': 754,\n",
              " 'hervorrufen': 755,\n",
              " 'korrelat': 756,\n",
              " 'covidpass': 757,\n",
              " 'normal': 758,\n",
              " 'gleichermaßen': 759,\n",
              " 'immundefizient': 760,\n",
              " 'verfügbar': 761,\n",
              " 'ausgegang': 762,\n",
              " 'infektiös': 763,\n",
              " 'ärztlich': 764,\n",
              " 'erreg': 765,\n",
              " 'national': 766,\n",
              " 'österreichisch': 767,\n",
              " 'krankheitsverläufe': 768,\n",
              " 'union': 769,\n",
              " 'beurteilen': 770,\n",
              " 'ermöglichen': 771,\n",
              " 'lockern': 772,\n",
              " 'hintergrund': 773,\n",
              " 'adenoviral': 774,\n",
              " 'vektoren': 775,\n",
              " 'erkältungsviren': 776,\n",
              " 'vermehren': 777,\n",
              " 'eliminieren': 778,\n",
              " 'wissenschaft': 779,\n",
              " 'adenovirusvektordna': 780,\n",
              " 'roland': 781,\n",
              " 'grillmeier': 782,\n",
              " 'impfnebenwirkung': 783,\n",
              " 'portugal': 784,\n",
              " 'einschätzung': 785,\n",
              " 'unerwünschte': 786,\n",
              " 'wirkung': 787,\n",
              " 'möglicherweise': 788,\n",
              " 'besonders': 789,\n",
              " 'einfach': 790,\n",
              " 'nürnberger': 791,\n",
              " 'kodex': 792,\n",
              " 'impferfolg': 793,\n",
              " 'hinnehmen': 794,\n",
              " 'neurologisch': 795,\n",
              " 'verbreitung': 796,\n",
              " 'beitragen': 797,\n",
              " 'agency': 798,\n",
              " 'langfristig': 799,\n",
              " 'bad': 800,\n",
              " 'mittlerweile': 801,\n",
              " 'benötigen': 802,\n",
              " 'coronaviruseinreiseverordnung': 803,\n",
              " 'covid19schutzmaßnahmenausnahmeverordnung': 804,\n",
              " 'berliner': 805,\n",
              " 'bewohner': 806,\n",
              " 'kommend': 807,\n",
              " 'bestimmen': 808,\n",
              " 'fortlaufend': 809,\n",
              " '17jährig': 810,\n",
              " 'arzt': 811,\n",
              " 'völlig': 812,\n",
              " 'allerdings': 813,\n",
              " 'vermindern': 814,\n",
              " 'alternativ': 815,\n",
              " 'einfluss': 816,\n",
              " 'long': 817,\n",
              " 'mikrochips': 818,\n",
              " 'prinz': 819,\n",
              " 'charles': 820,\n",
              " 'zusammenbrechen': 821,\n",
              " 'ansteckung': 822,\n",
              " 'mitte': 823,\n",
              " 'august': 824,\n",
              " '99': 825,\n",
              " 'großbritannien': 826,\n",
              " 'belgien': 827,\n",
              " 'impfteam': 828,\n",
              " 'mehrfach': 829,\n",
              " 'uğur': 830,\n",
              " 'şahin': 831,\n",
              " 'nötig': 832,\n",
              " 'derzeitig': 833,\n",
              " 'kenntnisstand': 834,\n",
              " 'impfkomplikation': 835,\n",
              " 'zustimmung': 836,\n",
              " 'komplikation': 837,\n",
              " 'impfzentrum': 838,\n",
              " 'ausstellen': 839,\n",
              " 'morgellon': 840,\n",
              " 'planen': 841,\n",
              " 'künstlich': 842,\n",
              " 'bauen': 843,\n",
              " 'bleiben': 844,\n",
              " 'zellkern': 845,\n",
              " 'fließen': 846,\n",
              " 'personengruppen': 847,\n",
              " 'kosten': 848,\n",
              " 'bund': 849,\n",
              " 'lauterbach': 850,\n",
              " 'dankbarkeit': 851,\n",
              " 'aufnahme': 852,\n",
              " 'metallisch': 853,\n",
              " 'betrieb': 854,\n",
              " 'je': 855,\n",
              " 'grad': 856,\n",
              " 'lagern': 857,\n",
              " 'solange': 858,\n",
              " 'gesetzblatt': 859,\n",
              " 'sommer': 860,\n",
              " 'intensivstationen': 861,\n",
              " 'undod': 862,\n",
              " 'machen': 863,\n",
              " 'gen': 864,\n",
              " 'bewältigung': 865,\n",
              " 'tätig': 866,\n",
              " 'todesfällen': 867,\n",
              " 'daran': 868,\n",
              " 'impf': 869,\n",
              " 'regierung': 870,\n",
              " 'verklagen': 871,\n",
              " 'jeweilig': 872,\n",
              " 'stattdessen': 873,\n",
              " 'untersucht': 874,\n",
              " 'bauplan': 875,\n",
              " 'sarscov2oberflächenprotein': 876,\n",
              " 'europa': 877,\n",
              " '23': 878,\n",
              " 'eingeschränkt': 879,\n",
              " 'schlafstörung': 880,\n",
              " 'depressiv': 881,\n",
              " 'forschung': 882,\n",
              " 'nachlassend': 883,\n",
              " 'protestieren': 884,\n",
              " 'wissenschaftlerinn': 885,\n",
              " 'wissenschaftler': 886,\n",
              " 'influenza': 887,\n",
              " 'alabama': 888,\n",
              " 'geruchs': 889,\n",
              " 'inaktiviert': 890,\n",
              " 'geplant': 891,\n",
              " 'impfstrategie': 892,\n",
              " 'zelle': 893,\n",
              " 'ansteckend': 894,\n",
              " 'meldung': 895,\n",
              " '§': 896,\n",
              " 'art': 897,\n",
              " 'grippe': 898,\n",
              " 'lage': 899,\n",
              " 'eventuell': 900,\n",
              " 'leicht': 901,\n",
              " 'robertkochinstitun': 902,\n",
              " 'c': 903,\n",
              " 'ausgehen': 904,\n",
              " 'verabreich': 905,\n",
              " 'haartrockner': 906,\n",
              " 'bald': 907,\n",
              " 'weitergeben': 908,\n",
              " 'einspritzen': 909,\n",
              " 'vorsorglich': 910,\n",
              " 'entzündlichrheumatisch': 911,\n",
              " 'janssencilag': 912,\n",
              " 'rund': 913,\n",
              " 'homolog': 914,\n",
              " 'grund': 915,\n",
              " 'feucht': 916,\n",
              " 'kopfschmerz': 917,\n",
              " 'ausgehend': 918,\n",
              " 'gebildet': 919,\n",
              " 'regen': 920,\n",
              " 'antig': 921,\n",
              " 'humoral': 922,\n",
              " 'pflegeeinrichtung': 923,\n",
              " 'individuell': 924,\n",
              " 'geschützt': 925,\n",
              " 'medikament': 926,\n",
              " 'bevor': 927,\n",
              " 'geldrolle': 928,\n",
              " 'kanada': 929,\n",
              " 'laufen': 930,\n",
              " 'bilden': 931,\n",
              " 'coronaimpfstoffen': 932,\n",
              " 'covid19mrnaimpfstoffen': 933,\n",
              " 'beginnen': 934,\n",
              " 'töt': 935,\n",
              " 'ntvreporterin': 936,\n",
              " 'dienen': 937,\n",
              " 'hervor': 938,\n",
              " '01': 939,\n",
              " 'mannheim': 940,\n",
              " 'kation': 941,\n",
              " 'schweregrad': 942,\n",
              " 'lebensbedrohlich': 943,\n",
              " 'klassifizieren': 944,\n",
              " 'gleich': 945,\n",
              " 'vorerkrankung': 946,\n",
              " 'versterben': 947,\n",
              " 'experimentell': 948,\n",
              " 'rundfunk': 949,\n",
              " 'optimal': 950,\n",
              " 'bevölkerung': 951,\n",
              " 'effekt': 952,\n",
              " 'schule': 953,\n",
              " 'verlieren': 954,\n",
              " 'fehlend': 955,\n",
              " 'substanziell': 956,\n",
              " 'herstellen': 957,\n",
              " 'beeinflusst': 958,\n",
              " 'meister': 959,\n",
              " 'gesichert': 960,\n",
              " 'entsprechend': 961,\n",
              " 'krankenversicherung': 962,\n",
              " 'privat': 963,\n",
              " 'merck': 964,\n",
              " 'arbeiten': 965,\n",
              " 'unternehmen': 966,\n",
              " 'lösen': 967,\n",
              " 'impferfolgs': 968,\n",
              " 'immunreaktion': 969,\n",
              " 'april': 970,\n",
              " 'obwohl': 971,\n",
              " 'antikörperbildung': 972,\n",
              " 'atemwegsinfekt': 973,\n",
              " 'unfruchtbar': 974,\n",
              " 'anstieg': 975,\n",
              " 'impfteams': 976,\n",
              " 'modrna': 977,\n",
              " 'verbessern': 978,\n",
              " 'erzeugen': 979,\n",
              " 'antikörpern': 980,\n",
              " 'modellierung': 981,\n",
              " 'schlimm': 982,\n",
              " 'sterblichkeit': 983,\n",
              " 'ende': 984,\n",
              " 'impfpflichen': 985,\n",
              " 'basieren': 986,\n",
              " 'harmlos': 987,\n",
              " 'erhöh': 988,\n",
              " 'knoblauch': 989,\n",
              " 'genug': 990,\n",
              " 'stikoempfehlung': 991,\n",
              " 'alleine': 992,\n",
              " 'entdecken': 993,\n",
              " 'italienisch': 994,\n",
              " 'unbekannt': 995,\n",
              " 'falsch': 996,\n",
              " 'immunologe': 997,\n",
              " 'heilung': 998,\n",
              " 'bestehend': 999,\n",
              " 'mrnabasiert': 1000,\n",
              " ...}"
            ]
          },
          "execution_count": 62,
          "metadata": {},
          "output_type": "execute_result"
        }
      ],
      "source": [
        "# each word has unique index\n",
        "word_index = tokenizer.word_index\n",
        "word_index"
      ]
    },
    {
      "cell_type": "code",
      "execution_count": null,
      "metadata": {
        "id": "jZpq7H0-RG9V"
      },
      "outputs": [],
      "source": [
        "#Tokenization with Keras for the the user input\n",
        "def tokenize_keras_user(input):\n",
        "  input = tokenizer.texts_to_sequences(input)\n",
        "  return input"
      ]
    },
    {
      "cell_type": "code",
      "execution_count": null,
      "metadata": {
        "id": "Sl7XG_tlzv1O"
      },
      "outputs": [],
      "source": [
        "train_sequences = tokenizer.texts_to_sequences(train_sentences)\n",
        "val_sequences = tokenizer.texts_to_sequences(val_sentences)\n",
        "test_sequences = tokenizer.texts_to_sequences(test_sentences)"
      ]
    },
    {
      "cell_type": "code",
      "execution_count": null,
      "metadata": {
        "colab": {
          "base_uri": "https://localhost:8080/"
        },
        "id": "D0b4VKhHzyIL",
        "outputId": "245fe121-642c-4b59-a15c-07ef32ed463f"
      },
      "outputs": [
        {
          "name": "stdout",
          "output_type": "stream",
          "text": [
            "['schwangeren schwer covid19verläufe komplikationen insgesamt selten jedoch stellen schwangerschaft relevant risikofaktor schwer verläufe dar'\n",
            " 'donnerstag veröffentlicht beschluss entscheiden erster senat einrichtungsbezogen impfpflicht grundgesetz vereinbar'\n",
            " 'september fast geimpft tot'\n",
            " 'heiko maas fordern impfpasspflicht einkaufen lebensmitteln'\n",
            " 'erst zusammen empfohlen impfstoffdosis führen bereits durchgemacht infektion ansicht stiko aufbau basisimmunität']\n",
            "[[317, 8, 586, 587, 242, 37, 57, 199, 130, 243, 588, 8, 318, 405], [589, 1037, 1038, 590, 47, 1039, 1040, 200, 1041, 1042], [591, 244, 5, 406], [1043, 1044, 245, 1045, 592, 1046], [201, 593, 407, 43, 44, 97, 202, 12, 1047, 21, 1048, 1049]]\n"
          ]
        }
      ],
      "source": [
        "print(train_sentences[10:15]) # normal text\n",
        "print(train_sequences[10:15])  # sentences with word index"
      ]
    },
    {
      "cell_type": "code",
      "execution_count": null,
      "metadata": {
        "id": "0v3ySSSBS4O8"
      },
      "outputs": [],
      "source": [
        "# sequences cannot have different lenght. We need them to have the same lenght.\n",
        "# We are using padding to do so.\n",
        "\n",
        "# max number of words in a sequence\n",
        "max_lenght = 40\n",
        "\n",
        "#First we are building the padding function for the user input:\n",
        "def padding_user(input):\n",
        "  input = pad_sequences(input, maxlen= max_lenght, padding =\"post\", truncating = \"post\")\n",
        "  return input"
      ]
    },
    {
      "cell_type": "code",
      "execution_count": null,
      "metadata": {
        "colab": {
          "base_uri": "https://localhost:8080/"
        },
        "id": "pVa0Dy1oz1K7",
        "outputId": "d5eca6eb-99c8-4ca2-db3b-8787ac1ebb90"
      },
      "outputs": [
        {
          "data": {
            "text/plain": [
              "((772, 40), (97, 40), (96, 40))"
            ]
          },
          "execution_count": 67,
          "metadata": {},
          "output_type": "execute_result"
        }
      ],
      "source": [
        "# Padding for the dataframe:\n",
        "train_padded = pad_sequences(train_sequences, maxlen=max_lenght, padding = \"post\", truncating = \"post\")\n",
        "val_padded = pad_sequences(val_sequences, maxlen= max_lenght, padding =\"post\", truncating = \"post\")\n",
        "test_padded = pad_sequences(test_sequences, maxlen= max_lenght, padding =\"post\", truncating = \"post\")\n",
        "train_padded.shape, val_padded.shape , test_padded.shape"
      ]
    },
    {
      "cell_type": "code",
      "execution_count": null,
      "metadata": {
        "id": "UwaaUf6Nz6Cr"
      },
      "outputs": [],
      "source": [
        "# check if everything is correct by reversing it\n",
        "# for example 1: model and instaed of model:1\n",
        "\n",
        "# flip(key,value)\n",
        "reverse_word_index = dict([(idx,word) for (word,idx) in word_index.items()])\n",
        "reverse_word_index"
      ]
    },
    {
      "cell_type": "code",
      "execution_count": null,
      "metadata": {
        "id": "0AamVjv50RHj"
      },
      "outputs": [],
      "source": [
        "def decode(sequence):\n",
        "    return \" \".join([reverse_word_index.get(idx, \"?\") for idx in sequence])"
      ]
    },
    {
      "cell_type": "code",
      "execution_count": null,
      "metadata": {
        "colab": {
          "base_uri": "https://localhost:8080/"
        },
        "id": "k1RA_VAe0TlH",
        "outputId": "048d4ba9-f002-4867-c4c5-3d9a568057f1"
      },
      "outputs": [
        {
          "name": "stdout",
          "output_type": "stream",
          "text": [
            "[317, 8, 586, 587, 242, 37, 57, 199, 130, 243, 588, 8, 318, 405]\n",
            "schwangeren schwer covid19verläufe komplikationen insgesamt selten jedoch stellen schwangerschaft relevant risikofaktor schwer verläufe dar\n"
          ]
        }
      ],
      "source": [
        "decoded_text = decode(train_sequences[10])\n",
        "\n",
        "print(train_sequences[10])\n",
        "print(decoded_text)"
      ]
    },
    {
      "cell_type": "markdown",
      "metadata": {
        "id": "MkLKoCZZ5N7H"
      },
      "source": [
        "Now we are building the RNN and training the model:"
      ]
    },
    {
      "cell_type": "code",
      "execution_count": null,
      "metadata": {
        "id": "hmx_YrIN5WYx"
      },
      "outputs": [],
      "source": [
        "def build(hp):\n",
        "\n",
        "\n",
        "    activation = hp.Choice('activation', \n",
        "                        [\n",
        "                          'relu',\n",
        "                          'tanh',\n",
        "                          'linear',\n",
        "                          'selu',\n",
        "                          'elu'\n",
        "                        ])\n",
        "\n",
        "    num_rnn_layers = hp.Int(\n",
        "                        'num_rnn_layers', \n",
        "                        min_value=0,\n",
        "                        max_value=12,\n",
        "                        default=3)\n",
        "\n",
        "    recurrent_dropout = hp.Float(\n",
        "                        'recurrent_dropout', \n",
        "                        min_value=0.0,\n",
        "                        max_value=0.99,\n",
        "                        default=0.2)\n",
        "    num_units = hp.Int(\n",
        "                        'num_units', \n",
        "                        min_value=0,\n",
        "                        max_value=64,\n",
        "                        default=32)\n",
        "    \n",
        "    model = keras.Sequential()\n",
        "    model.add(keras.layers.Embedding(num_unique_words, 32, input_length=max_lenght))\n",
        "    model.add(keras.layers.LSTM(units=num_units, activation=activation, recurrent_dropout = recurrent_dropout))\n",
        "    model.add(keras.layers.Dense(units=1, activation = 'sigmoid'))\n",
        "\n",
        "    model.compile(optimizer=tf.keras.optimizers.Adam(hp.Choice('learning_rate',values=[1e-2, 1e-3, 1e-4])),loss=tf.keras.losses.BinaryCrossentropy(from_logits=False), metrics=[\"accuracy\"])\n",
        "\n",
        "    return model"
      ]
    },
    {
      "cell_type": "code",
      "execution_count": null,
      "metadata": {
        "id": "SbYbusdw5vKj"
      },
      "outputs": [],
      "source": [
        "bayesian_opt_tuner = keras_tuner.BayesianOptimization(\n",
        "    build,\n",
        "    objective=keras_tuner.Objective(name='val_accuracy', direction='max'),\n",
        "    max_trials=3,\n",
        "    executions_per_trial=3, \n",
        "    overwrite=True)\n",
        "\n",
        "n_epochs=20"
      ]
    },
    {
      "cell_type": "code",
      "execution_count": null,
      "metadata": {
        "colab": {
          "base_uri": "https://localhost:8080/"
        },
        "id": "GGEo7nOD56No",
        "outputId": "a0c880e1-b1c2-48a9-caeb-990c5710498a"
      },
      "outputs": [
        {
          "name": "stdout",
          "output_type": "stream",
          "text": [
            "Trial 5 Complete [00h 01m 11s]\n",
            "val_accuracy: 0.4516128897666931\n",
            "\n",
            "Best val_accuracy So Far: 0.851612905661265\n",
            "Total elapsed time: 00h 09m 08s\n"
          ]
        }
      ],
      "source": [
        "bayesian_opt_tuner.search(train_padded, train_labels,epochs=n_epochs,\n",
        "     validation_data=(val_padded, val_labels),\n",
        "     validation_split=0.2,verbose=2)"
      ]
    },
    {
      "cell_type": "code",
      "execution_count": null,
      "metadata": {
        "id": "E_V0awkN58E7"
      },
      "outputs": [],
      "source": [
        "bayes_opt_model_best_model = bayesian_opt_tuner.get_best_models(num_models=1)\n",
        "model_LSTM = bayes_opt_model_best_model[0]"
      ]
    },
    {
      "cell_type": "code",
      "execution_count": null,
      "metadata": {
        "colab": {
          "base_uri": "https://localhost:8080/"
        },
        "id": "OlQk4q9F6G4e",
        "outputId": "58d60425-1e79-432a-98aa-7c673f912239"
      },
      "outputs": [
        {
          "data": {
            "text/plain": [
              "<keras.engine.sequential.Sequential at 0x7f0dd94943d0>"
            ]
          },
          "execution_count": 75,
          "metadata": {},
          "output_type": "execute_result"
        }
      ],
      "source": [
        "model_LSTM"
      ]
    },
    {
      "cell_type": "code",
      "execution_count": null,
      "metadata": {
        "colab": {
          "base_uri": "https://localhost:8080/"
        },
        "id": "9cnC8FlZ6QfA",
        "outputId": "74b3b463-6dcc-49ff-b7e0-a4e6b8b5bfa3"
      },
      "outputs": [
        {
          "name": "stdout",
          "output_type": "stream",
          "text": [
            "Model: \"sequential\"\n",
            "_________________________________________________________________\n",
            " Layer (type)                Output Shape              Param #   \n",
            "=================================================================\n",
            " embedding (Embedding)       (None, 40, 32)            96672     \n",
            "                                                                 \n",
            " lstm (LSTM)                 (None, 59)                21712     \n",
            "                                                                 \n",
            " dense (Dense)               (None, 1)                 60        \n",
            "                                                                 \n",
            "=================================================================\n",
            "Total params: 118,444\n",
            "Trainable params: 118,444\n",
            "Non-trainable params: 0\n",
            "_________________________________________________________________\n"
          ]
        }
      ],
      "source": [
        "model_LSTM.summary()"
      ]
    },
    {
      "cell_type": "code",
      "execution_count": null,
      "metadata": {
        "colab": {
          "base_uri": "https://localhost:8080/"
        },
        "id": "b9BKWVgO6RoY",
        "outputId": "b2756c1b-32e9-4062-ef84-5eb8b1f08047"
      },
      "outputs": [
        {
          "data": {
            "text/plain": [
              "<keras.callbacks.History at 0x7f0ddf650850>"
            ]
          },
          "execution_count": 85,
          "metadata": {},
          "output_type": "execute_result"
        }
      ],
      "source": [
        "model_LSTM.history"
      ]
    },
    {
      "cell_type": "code",
      "execution_count": null,
      "metadata": {
        "id": "pqF1MkSb6Tr6"
      },
      "outputs": [],
      "source": [
        "predictions_LSTM = model_LSTM.predict(test_padded)\n",
        "predictions_LSTM = [1 if p>0.5 else 0 for p in predictions_LSTM]"
      ]
    },
    {
      "cell_type": "code",
      "execution_count": null,
      "metadata": {
        "id": "q3TBvIO76WMA"
      },
      "outputs": [],
      "source": [
        "#model_LSTM.save('models/LSTM_Fakenews_Model_Final.h5')"
      ]
    },
    {
      "cell_type": "code",
      "execution_count": null,
      "metadata": {
        "id": "cRxD8_WC6dhi"
      },
      "outputs": [],
      "source": [
        "#new_model = load_model('models/LSTM_Fakenews_Model_2.h5')"
      ]
    },
    {
      "cell_type": "code",
      "execution_count": null,
      "metadata": {
        "colab": {
          "base_uri": "https://localhost:8080/"
        },
        "id": "fFVXtlXK8UF_",
        "outputId": "b9306975-0d5c-40dc-d998-939fa6de933f"
      },
      "outputs": [
        {
          "name": "stdout",
          "output_type": "stream",
          "text": [
            "              precision    recall  f1-score   support\n",
            "\n",
            "       False       0.87      0.91      0.89        44\n",
            "        True       0.92      0.88      0.90        52\n",
            "\n",
            "    accuracy                           0.90        96\n",
            "   macro avg       0.89      0.90      0.90        96\n",
            "weighted avg       0.90      0.90      0.90        96\n",
            "\n",
            "[[40  4]\n",
            " [ 6 46]]\n"
          ]
        }
      ],
      "source": [
        "from sklearn.metrics import classification_report\n",
        "print(classification_report(y_test, predictions_LSTM))\n",
        "\n",
        "from sklearn.metrics import confusion_matrix\n",
        "print(confusion_matrix(y_test, \n",
        "predictions_LSTM))"
      ]
    },
    {
      "cell_type": "markdown",
      "metadata": {
        "id": "uCn97zudDTZR"
      },
      "source": [
        "Connecting to the Anvil Web App:"
      ]
    },
    {
      "cell_type": "code",
      "execution_count": null,
      "metadata": {
        "id": "WVVQ70zKDSq5"
      },
      "outputs": [],
      "source": [
        "from fastai.text.all import load_learner\n",
        "import anvil.server"
      ]
    },
    {
      "cell_type": "code",
      "execution_count": null,
      "metadata": {
        "id": "lFCuAr4jCVP7"
      },
      "outputs": [],
      "source": [
        "anvil.server.connect(\"TKEAZQWDWYAZVEHF4EW3TN5F-XGIH7W2J3XZSQW46\")"
      ]
    },
    {
      "cell_type": "code",
      "execution_count": null,
      "metadata": {
        "id": "r6KnhabpDNkW"
      },
      "outputs": [],
      "source": [
        "@anvil.server.callable\n",
        "def predict_app(input):\n",
        "  input = remove_punctuation_user(input)   #the different kinds of preprocessing steps also have to be applied to our user's input sentence - if not, the machine learning model will not understand the sentence and will not be able to categorize it into True or False\n",
        "  input = preprocess_user(input)\n",
        "  input = tokenize_user(input)\n",
        "  input = remove_stopwords_user(input)\n",
        "  input = lemmatize_user(input)\n",
        "  input = tokenize_keras_user(input)\n",
        "  input = padding_user(input)\n",
        "  input = [input]\n",
        "  prediction = model_LSTM.predict(input)\n",
        "  correct = \"The statement is correct\"\n",
        "  false = \"The statement is false\"\n",
        "  if prediction == 0:\n",
        "    preds = correct\n",
        "  else:\n",
        "    preds = false\n",
        "  return preds"
      ]
    },
    {
      "cell_type": "code",
      "execution_count": null,
      "metadata": {
        "id": "_Tuv1iS6Dkjy"
      },
      "outputs": [],
      "source": [
        "#For demo:\n",
        "#URL to our application: https://XGIH7W2J3XZSQW46.anvil.app/3KGXEUN7XDU6WSMTXUMIEWAZ\n",
        "  #Correct statement #1: \"mRNA-Impfstoffe schützen vor schweren Verläufen.\"\n",
        "  #Correct statement #2: \"Die COVID-19-Impfstoffe schützen gut vor COVID-19.\"\n",
        "  #Correct statement #3: \"Es sind keine Mikrochips in Impfstoffen enthalten.\"\n",
        "  #False statement #1: \"Von Coronaimpfstoffen geht eine hohe Todesgefahr aus.\"\n",
        "  #False statement #2: \"Chloroquin kann das Covid-Virus abtöten. Impfungen sind unnötig.\"\n",
        "  #False statement #3: \"Personen mit besonders schwerem Verlauf weisen viele Antikörper gegen SARS-CoV-2 auf.\""
      ]
    }
  ],
  "metadata": {
    "colab": {
      "collapsed_sections": [],
      "include_colab_link": true,
      "provenance": []
    },
    "kernelspec": {
      "display_name": "Python 3",
      "name": "python3"
    },
    "language_info": {
      "name": "python"
    }
  },
  "nbformat": 4,
  "nbformat_minor": 0
}
